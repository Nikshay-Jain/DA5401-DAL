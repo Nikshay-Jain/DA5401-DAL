{
  "nbformat": 4,
  "nbformat_minor": 0,
  "metadata": {
    "colab": {
      "provenance": []
    },
    "kernelspec": {
      "name": "python3",
      "display_name": "Python 3"
    },
    "language_info": {
      "name": "python"
    }
  },
  "cells": [
    {
      "cell_type": "markdown",
      "source": [
        "## Nikshay Jain | MM21B044\n",
        "### Assign 7"
      ],
      "metadata": {
        "id": "NWaJW6t3v61G"
      }
    },
    {
      "cell_type": "code",
      "execution_count": null,
      "metadata": {
        "id": "-wycs_Gy70ab"
      },
      "outputs": [],
      "source": [
        "import numpy as np\n",
        "import pandas as pd\n",
        "import matplotlib.pyplot as plt\n",
        "\n",
        "from sklearn.svm import SVC\n",
        "from sklearn.impute import SimpleImputer\n",
        "from sklearn.tree import DecisionTreeClassifier\n",
        "from sklearn.linear_model import LogisticRegression\n",
        "from sklearn.metrics import f1_score, classification_report\n",
        "from sklearn.preprocessing import StandardScaler\n",
        "from sklearn.utils.class_weight import compute_sample_weight\n",
        "from sklearn.model_selection import GridSearchCV, train_test_split, ParameterGrid\n",
        "\n",
        "from imblearn.under_sampling import RandomUnderSampler\n",
        "from imblearn.over_sampling import RandomOverSampler, SMOTE"
      ]
    },
    {
      "cell_type": "code",
      "source": [
        "from google.colab import drive\n",
        "drive.mount('/content/drive')\n",
        "\n",
        "data = pd.read_csv('/content/drive/MyDrive/aps_failure_training_set.csv')"
      ],
      "metadata": {
        "colab": {
          "base_uri": "https://localhost:8080/"
        },
        "id": "BHnHgHzCxLhx",
        "outputId": "7ab3d1c0-a174-43b6-c521-c97249d9fcdc"
      },
      "execution_count": null,
      "outputs": [
        {
          "output_type": "stream",
          "name": "stdout",
          "text": [
            "Mounted at /content/drive\n"
          ]
        }
      ]
    },
    {
      "cell_type": "code",
      "source": [
        "# data = pd.read_csv('aps_failure_training_set.csv')\n",
        "# data"
      ],
      "metadata": {
        "id": "2rDtP2ncv4Mi"
      },
      "execution_count": null,
      "outputs": []
    },
    {
      "cell_type": "code",
      "source": [
        "sum(data['class']=='pos')  # no of +ves in dataset"
      ],
      "metadata": {
        "colab": {
          "base_uri": "https://localhost:8080/"
        },
        "id": "xj5yiobDwA7L",
        "outputId": "8fee7f4e-7db6-40ab-bc03-baa24f4cfaf3"
      },
      "execution_count": null,
      "outputs": [
        {
          "output_type": "execute_result",
          "data": {
            "text/plain": [
              "1000"
            ]
          },
          "metadata": {},
          "execution_count": 21
        }
      ]
    },
    {
      "cell_type": "code",
      "source": [
        "data[data.columns[0]].replace({'neg':'0','pos':'1'},inplace=True)\n",
        "data = data.replace('na',np.NaN)\n",
        "data[data.columns[0]] = data[data.columns[0]].astype(int)\n",
        "data[data.columns[1:]] = data[data.columns[1:]].astype(float)\n",
        "data.dropna(inplace=True)"
      ],
      "metadata": {
        "colab": {
          "base_uri": "https://localhost:8080/"
        },
        "id": "Bo8xhx3cMNK8",
        "outputId": "e18f4d2f-5b8d-4e01-c993-bae68b361f31"
      },
      "execution_count": null,
      "outputs": [
        {
          "output_type": "stream",
          "name": "stderr",
          "text": [
            "<ipython-input-25-19ff5df2fc7f>:1: FutureWarning: A value is trying to be set on a copy of a DataFrame or Series through chained assignment using an inplace method.\n",
            "The behavior will change in pandas 3.0. This inplace method will never work because the intermediate object on which we are setting values always behaves as a copy.\n",
            "\n",
            "For example, when doing 'df[col].method(value, inplace=True)', try using 'df.method({col: value}, inplace=True)' or df[col] = df[col].method(value) instead, to perform the operation inplace on the original object.\n",
            "\n",
            "\n",
            "  data[data.columns[0]].replace({'neg':'0','pos':'1'},inplace=True)\n"
          ]
        }
      ]
    },
    {
      "cell_type": "code",
      "source": [
        "data"
      ],
      "metadata": {
        "colab": {
          "base_uri": "https://localhost:8080/",
          "height": 443
        },
        "id": "0rx--RfEMdX5",
        "outputId": "05d75f9a-b8db-4c48-f202-816103aaba0e"
      },
      "execution_count": null,
      "outputs": [
        {
          "output_type": "execute_result",
          "data": {
            "text/plain": [
              "       class    aa_000  ab_000  ac_000  ad_000  ae_000  af_000  ag_000  \\\n",
              "16         0   31300.0     0.0   784.0   740.0     0.0     0.0     0.0   \n",
              "179        0   97000.0     0.0   378.0   160.0     0.0     0.0     0.0   \n",
              "225        0  124656.0     2.0   278.0   170.0     0.0     0.0     0.0   \n",
              "394        1  281324.0     2.0  3762.0  2346.0     0.0     0.0  4808.0   \n",
              "413        1   43482.0     0.0  1534.0  1388.0     0.0     0.0     0.0   \n",
              "...      ...       ...     ...     ...     ...     ...     ...     ...   \n",
              "59432      0  118028.0     0.0   740.0   714.0   618.0   690.0     0.0   \n",
              "59562      0  229916.0     0.0   616.0     0.0     0.0     0.0     0.0   \n",
              "59843      0  224084.0     0.0   912.0   766.0     0.0     0.0     0.0   \n",
              "59870      0  197332.0     0.0   658.0   616.0   216.0   346.0     0.0   \n",
              "59950      0   76812.0     0.0   376.0   340.0     0.0     0.0     0.0   \n",
              "\n",
              "         ag_001    ag_002  ...     ee_002    ee_003    ee_004     ee_005  \\\n",
              "16          0.0       0.0  ...   798872.0  112724.0   51736.0     7054.0   \n",
              "179         0.0       0.0  ...  1078982.0  313334.0  511330.0   552328.0   \n",
              "225         0.0       0.0  ...  1205696.0  866148.0  697610.0   700400.0   \n",
              "394    215720.0  967572.0  ...   624606.0  269976.0  638838.0  1358354.0   \n",
              "413         0.0   40024.0  ...   497196.0  121166.0  202272.0   232636.0   \n",
              "...         ...       ...  ...        ...       ...       ...        ...   \n",
              "59432       0.0       0.0  ...   838952.0  631338.0  541036.0  1285274.0   \n",
              "59562       0.0       0.0  ...        0.0       0.0       0.0        0.0   \n",
              "59843       0.0       0.0  ...   413576.0  209524.0  469894.0  2233992.0   \n",
              "59870       0.0       0.0  ...    73940.0   49896.0   90454.0   575264.0   \n",
              "59950       0.0    5744.0  ...  1487016.0   60100.0   29754.0     4200.0   \n",
              "\n",
              "          ee_006    ee_007   ee_008  ee_009  ef_000  eg_000  \n",
              "16        6628.0   27600.0      2.0     2.0     0.0     0.0  \n",
              "179     871528.0  871104.0   1980.0    42.0     0.0     0.0  \n",
              "225    1900386.0  437532.0   3680.0     0.0     0.0     0.0  \n",
              "394     819918.0  262804.0   2824.0     0.0     0.0     0.0  \n",
              "413     645690.0      50.0      0.0     0.0     0.0     0.0  \n",
              "...          ...       ...      ...     ...     ...     ...  \n",
              "59432  1832658.0  165838.0   3022.0     0.0     0.0     0.0  \n",
              "59562        0.0       0.0      0.0     0.0     0.0     0.0  \n",
              "59843  5933084.0  364450.0  12422.0     0.0     0.0     0.0  \n",
              "59870   104600.0   10352.0     36.0     0.0     0.0     0.0  \n",
              "59950     4070.0    9236.0      0.0     0.0     0.0     0.0  \n",
              "\n",
              "[591 rows x 171 columns]"
            ],
            "text/html": [
              "\n",
              "  <div id=\"df-8248c692-5a21-46ba-aeaa-d8ee30e759a5\" class=\"colab-df-container\">\n",
              "    <div>\n",
              "<style scoped>\n",
              "    .dataframe tbody tr th:only-of-type {\n",
              "        vertical-align: middle;\n",
              "    }\n",
              "\n",
              "    .dataframe tbody tr th {\n",
              "        vertical-align: top;\n",
              "    }\n",
              "\n",
              "    .dataframe thead th {\n",
              "        text-align: right;\n",
              "    }\n",
              "</style>\n",
              "<table border=\"1\" class=\"dataframe\">\n",
              "  <thead>\n",
              "    <tr style=\"text-align: right;\">\n",
              "      <th></th>\n",
              "      <th>class</th>\n",
              "      <th>aa_000</th>\n",
              "      <th>ab_000</th>\n",
              "      <th>ac_000</th>\n",
              "      <th>ad_000</th>\n",
              "      <th>ae_000</th>\n",
              "      <th>af_000</th>\n",
              "      <th>ag_000</th>\n",
              "      <th>ag_001</th>\n",
              "      <th>ag_002</th>\n",
              "      <th>...</th>\n",
              "      <th>ee_002</th>\n",
              "      <th>ee_003</th>\n",
              "      <th>ee_004</th>\n",
              "      <th>ee_005</th>\n",
              "      <th>ee_006</th>\n",
              "      <th>ee_007</th>\n",
              "      <th>ee_008</th>\n",
              "      <th>ee_009</th>\n",
              "      <th>ef_000</th>\n",
              "      <th>eg_000</th>\n",
              "    </tr>\n",
              "  </thead>\n",
              "  <tbody>\n",
              "    <tr>\n",
              "      <th>16</th>\n",
              "      <td>0</td>\n",
              "      <td>31300.0</td>\n",
              "      <td>0.0</td>\n",
              "      <td>784.0</td>\n",
              "      <td>740.0</td>\n",
              "      <td>0.0</td>\n",
              "      <td>0.0</td>\n",
              "      <td>0.0</td>\n",
              "      <td>0.0</td>\n",
              "      <td>0.0</td>\n",
              "      <td>...</td>\n",
              "      <td>798872.0</td>\n",
              "      <td>112724.0</td>\n",
              "      <td>51736.0</td>\n",
              "      <td>7054.0</td>\n",
              "      <td>6628.0</td>\n",
              "      <td>27600.0</td>\n",
              "      <td>2.0</td>\n",
              "      <td>2.0</td>\n",
              "      <td>0.0</td>\n",
              "      <td>0.0</td>\n",
              "    </tr>\n",
              "    <tr>\n",
              "      <th>179</th>\n",
              "      <td>0</td>\n",
              "      <td>97000.0</td>\n",
              "      <td>0.0</td>\n",
              "      <td>378.0</td>\n",
              "      <td>160.0</td>\n",
              "      <td>0.0</td>\n",
              "      <td>0.0</td>\n",
              "      <td>0.0</td>\n",
              "      <td>0.0</td>\n",
              "      <td>0.0</td>\n",
              "      <td>...</td>\n",
              "      <td>1078982.0</td>\n",
              "      <td>313334.0</td>\n",
              "      <td>511330.0</td>\n",
              "      <td>552328.0</td>\n",
              "      <td>871528.0</td>\n",
              "      <td>871104.0</td>\n",
              "      <td>1980.0</td>\n",
              "      <td>42.0</td>\n",
              "      <td>0.0</td>\n",
              "      <td>0.0</td>\n",
              "    </tr>\n",
              "    <tr>\n",
              "      <th>225</th>\n",
              "      <td>0</td>\n",
              "      <td>124656.0</td>\n",
              "      <td>2.0</td>\n",
              "      <td>278.0</td>\n",
              "      <td>170.0</td>\n",
              "      <td>0.0</td>\n",
              "      <td>0.0</td>\n",
              "      <td>0.0</td>\n",
              "      <td>0.0</td>\n",
              "      <td>0.0</td>\n",
              "      <td>...</td>\n",
              "      <td>1205696.0</td>\n",
              "      <td>866148.0</td>\n",
              "      <td>697610.0</td>\n",
              "      <td>700400.0</td>\n",
              "      <td>1900386.0</td>\n",
              "      <td>437532.0</td>\n",
              "      <td>3680.0</td>\n",
              "      <td>0.0</td>\n",
              "      <td>0.0</td>\n",
              "      <td>0.0</td>\n",
              "    </tr>\n",
              "    <tr>\n",
              "      <th>394</th>\n",
              "      <td>1</td>\n",
              "      <td>281324.0</td>\n",
              "      <td>2.0</td>\n",
              "      <td>3762.0</td>\n",
              "      <td>2346.0</td>\n",
              "      <td>0.0</td>\n",
              "      <td>0.0</td>\n",
              "      <td>4808.0</td>\n",
              "      <td>215720.0</td>\n",
              "      <td>967572.0</td>\n",
              "      <td>...</td>\n",
              "      <td>624606.0</td>\n",
              "      <td>269976.0</td>\n",
              "      <td>638838.0</td>\n",
              "      <td>1358354.0</td>\n",
              "      <td>819918.0</td>\n",
              "      <td>262804.0</td>\n",
              "      <td>2824.0</td>\n",
              "      <td>0.0</td>\n",
              "      <td>0.0</td>\n",
              "      <td>0.0</td>\n",
              "    </tr>\n",
              "    <tr>\n",
              "      <th>413</th>\n",
              "      <td>1</td>\n",
              "      <td>43482.0</td>\n",
              "      <td>0.0</td>\n",
              "      <td>1534.0</td>\n",
              "      <td>1388.0</td>\n",
              "      <td>0.0</td>\n",
              "      <td>0.0</td>\n",
              "      <td>0.0</td>\n",
              "      <td>0.0</td>\n",
              "      <td>40024.0</td>\n",
              "      <td>...</td>\n",
              "      <td>497196.0</td>\n",
              "      <td>121166.0</td>\n",
              "      <td>202272.0</td>\n",
              "      <td>232636.0</td>\n",
              "      <td>645690.0</td>\n",
              "      <td>50.0</td>\n",
              "      <td>0.0</td>\n",
              "      <td>0.0</td>\n",
              "      <td>0.0</td>\n",
              "      <td>0.0</td>\n",
              "    </tr>\n",
              "    <tr>\n",
              "      <th>...</th>\n",
              "      <td>...</td>\n",
              "      <td>...</td>\n",
              "      <td>...</td>\n",
              "      <td>...</td>\n",
              "      <td>...</td>\n",
              "      <td>...</td>\n",
              "      <td>...</td>\n",
              "      <td>...</td>\n",
              "      <td>...</td>\n",
              "      <td>...</td>\n",
              "      <td>...</td>\n",
              "      <td>...</td>\n",
              "      <td>...</td>\n",
              "      <td>...</td>\n",
              "      <td>...</td>\n",
              "      <td>...</td>\n",
              "      <td>...</td>\n",
              "      <td>...</td>\n",
              "      <td>...</td>\n",
              "      <td>...</td>\n",
              "      <td>...</td>\n",
              "    </tr>\n",
              "    <tr>\n",
              "      <th>59432</th>\n",
              "      <td>0</td>\n",
              "      <td>118028.0</td>\n",
              "      <td>0.0</td>\n",
              "      <td>740.0</td>\n",
              "      <td>714.0</td>\n",
              "      <td>618.0</td>\n",
              "      <td>690.0</td>\n",
              "      <td>0.0</td>\n",
              "      <td>0.0</td>\n",
              "      <td>0.0</td>\n",
              "      <td>...</td>\n",
              "      <td>838952.0</td>\n",
              "      <td>631338.0</td>\n",
              "      <td>541036.0</td>\n",
              "      <td>1285274.0</td>\n",
              "      <td>1832658.0</td>\n",
              "      <td>165838.0</td>\n",
              "      <td>3022.0</td>\n",
              "      <td>0.0</td>\n",
              "      <td>0.0</td>\n",
              "      <td>0.0</td>\n",
              "    </tr>\n",
              "    <tr>\n",
              "      <th>59562</th>\n",
              "      <td>0</td>\n",
              "      <td>229916.0</td>\n",
              "      <td>0.0</td>\n",
              "      <td>616.0</td>\n",
              "      <td>0.0</td>\n",
              "      <td>0.0</td>\n",
              "      <td>0.0</td>\n",
              "      <td>0.0</td>\n",
              "      <td>0.0</td>\n",
              "      <td>0.0</td>\n",
              "      <td>...</td>\n",
              "      <td>0.0</td>\n",
              "      <td>0.0</td>\n",
              "      <td>0.0</td>\n",
              "      <td>0.0</td>\n",
              "      <td>0.0</td>\n",
              "      <td>0.0</td>\n",
              "      <td>0.0</td>\n",
              "      <td>0.0</td>\n",
              "      <td>0.0</td>\n",
              "      <td>0.0</td>\n",
              "    </tr>\n",
              "    <tr>\n",
              "      <th>59843</th>\n",
              "      <td>0</td>\n",
              "      <td>224084.0</td>\n",
              "      <td>0.0</td>\n",
              "      <td>912.0</td>\n",
              "      <td>766.0</td>\n",
              "      <td>0.0</td>\n",
              "      <td>0.0</td>\n",
              "      <td>0.0</td>\n",
              "      <td>0.0</td>\n",
              "      <td>0.0</td>\n",
              "      <td>...</td>\n",
              "      <td>413576.0</td>\n",
              "      <td>209524.0</td>\n",
              "      <td>469894.0</td>\n",
              "      <td>2233992.0</td>\n",
              "      <td>5933084.0</td>\n",
              "      <td>364450.0</td>\n",
              "      <td>12422.0</td>\n",
              "      <td>0.0</td>\n",
              "      <td>0.0</td>\n",
              "      <td>0.0</td>\n",
              "    </tr>\n",
              "    <tr>\n",
              "      <th>59870</th>\n",
              "      <td>0</td>\n",
              "      <td>197332.0</td>\n",
              "      <td>0.0</td>\n",
              "      <td>658.0</td>\n",
              "      <td>616.0</td>\n",
              "      <td>216.0</td>\n",
              "      <td>346.0</td>\n",
              "      <td>0.0</td>\n",
              "      <td>0.0</td>\n",
              "      <td>0.0</td>\n",
              "      <td>...</td>\n",
              "      <td>73940.0</td>\n",
              "      <td>49896.0</td>\n",
              "      <td>90454.0</td>\n",
              "      <td>575264.0</td>\n",
              "      <td>104600.0</td>\n",
              "      <td>10352.0</td>\n",
              "      <td>36.0</td>\n",
              "      <td>0.0</td>\n",
              "      <td>0.0</td>\n",
              "      <td>0.0</td>\n",
              "    </tr>\n",
              "    <tr>\n",
              "      <th>59950</th>\n",
              "      <td>0</td>\n",
              "      <td>76812.0</td>\n",
              "      <td>0.0</td>\n",
              "      <td>376.0</td>\n",
              "      <td>340.0</td>\n",
              "      <td>0.0</td>\n",
              "      <td>0.0</td>\n",
              "      <td>0.0</td>\n",
              "      <td>0.0</td>\n",
              "      <td>5744.0</td>\n",
              "      <td>...</td>\n",
              "      <td>1487016.0</td>\n",
              "      <td>60100.0</td>\n",
              "      <td>29754.0</td>\n",
              "      <td>4200.0</td>\n",
              "      <td>4070.0</td>\n",
              "      <td>9236.0</td>\n",
              "      <td>0.0</td>\n",
              "      <td>0.0</td>\n",
              "      <td>0.0</td>\n",
              "      <td>0.0</td>\n",
              "    </tr>\n",
              "  </tbody>\n",
              "</table>\n",
              "<p>591 rows × 171 columns</p>\n",
              "</div>\n",
              "    <div class=\"colab-df-buttons\">\n",
              "\n",
              "  <div class=\"colab-df-container\">\n",
              "    <button class=\"colab-df-convert\" onclick=\"convertToInteractive('df-8248c692-5a21-46ba-aeaa-d8ee30e759a5')\"\n",
              "            title=\"Convert this dataframe to an interactive table.\"\n",
              "            style=\"display:none;\">\n",
              "\n",
              "  <svg xmlns=\"http://www.w3.org/2000/svg\" height=\"24px\" viewBox=\"0 -960 960 960\">\n",
              "    <path d=\"M120-120v-720h720v720H120Zm60-500h600v-160H180v160Zm220 220h160v-160H400v160Zm0 220h160v-160H400v160ZM180-400h160v-160H180v160Zm440 0h160v-160H620v160ZM180-180h160v-160H180v160Zm440 0h160v-160H620v160Z\"/>\n",
              "  </svg>\n",
              "    </button>\n",
              "\n",
              "  <style>\n",
              "    .colab-df-container {\n",
              "      display:flex;\n",
              "      gap: 12px;\n",
              "    }\n",
              "\n",
              "    .colab-df-convert {\n",
              "      background-color: #E8F0FE;\n",
              "      border: none;\n",
              "      border-radius: 50%;\n",
              "      cursor: pointer;\n",
              "      display: none;\n",
              "      fill: #1967D2;\n",
              "      height: 32px;\n",
              "      padding: 0 0 0 0;\n",
              "      width: 32px;\n",
              "    }\n",
              "\n",
              "    .colab-df-convert:hover {\n",
              "      background-color: #E2EBFA;\n",
              "      box-shadow: 0px 1px 2px rgba(60, 64, 67, 0.3), 0px 1px 3px 1px rgba(60, 64, 67, 0.15);\n",
              "      fill: #174EA6;\n",
              "    }\n",
              "\n",
              "    .colab-df-buttons div {\n",
              "      margin-bottom: 4px;\n",
              "    }\n",
              "\n",
              "    [theme=dark] .colab-df-convert {\n",
              "      background-color: #3B4455;\n",
              "      fill: #D2E3FC;\n",
              "    }\n",
              "\n",
              "    [theme=dark] .colab-df-convert:hover {\n",
              "      background-color: #434B5C;\n",
              "      box-shadow: 0px 1px 3px 1px rgba(0, 0, 0, 0.15);\n",
              "      filter: drop-shadow(0px 1px 2px rgba(0, 0, 0, 0.3));\n",
              "      fill: #FFFFFF;\n",
              "    }\n",
              "  </style>\n",
              "\n",
              "    <script>\n",
              "      const buttonEl =\n",
              "        document.querySelector('#df-8248c692-5a21-46ba-aeaa-d8ee30e759a5 button.colab-df-convert');\n",
              "      buttonEl.style.display =\n",
              "        google.colab.kernel.accessAllowed ? 'block' : 'none';\n",
              "\n",
              "      async function convertToInteractive(key) {\n",
              "        const element = document.querySelector('#df-8248c692-5a21-46ba-aeaa-d8ee30e759a5');\n",
              "        const dataTable =\n",
              "          await google.colab.kernel.invokeFunction('convertToInteractive',\n",
              "                                                    [key], {});\n",
              "        if (!dataTable) return;\n",
              "\n",
              "        const docLinkHtml = 'Like what you see? Visit the ' +\n",
              "          '<a target=\"_blank\" href=https://colab.research.google.com/notebooks/data_table.ipynb>data table notebook</a>'\n",
              "          + ' to learn more about interactive tables.';\n",
              "        element.innerHTML = '';\n",
              "        dataTable['output_type'] = 'display_data';\n",
              "        await google.colab.output.renderOutput(dataTable, element);\n",
              "        const docLink = document.createElement('div');\n",
              "        docLink.innerHTML = docLinkHtml;\n",
              "        element.appendChild(docLink);\n",
              "      }\n",
              "    </script>\n",
              "  </div>\n",
              "\n",
              "\n",
              "<div id=\"df-d9442786-8462-4998-a502-e2b29e71b7a6\">\n",
              "  <button class=\"colab-df-quickchart\" onclick=\"quickchart('df-d9442786-8462-4998-a502-e2b29e71b7a6')\"\n",
              "            title=\"Suggest charts\"\n",
              "            style=\"display:none;\">\n",
              "\n",
              "<svg xmlns=\"http://www.w3.org/2000/svg\" height=\"24px\"viewBox=\"0 0 24 24\"\n",
              "     width=\"24px\">\n",
              "    <g>\n",
              "        <path d=\"M19 3H5c-1.1 0-2 .9-2 2v14c0 1.1.9 2 2 2h14c1.1 0 2-.9 2-2V5c0-1.1-.9-2-2-2zM9 17H7v-7h2v7zm4 0h-2V7h2v10zm4 0h-2v-4h2v4z\"/>\n",
              "    </g>\n",
              "</svg>\n",
              "  </button>\n",
              "\n",
              "<style>\n",
              "  .colab-df-quickchart {\n",
              "      --bg-color: #E8F0FE;\n",
              "      --fill-color: #1967D2;\n",
              "      --hover-bg-color: #E2EBFA;\n",
              "      --hover-fill-color: #174EA6;\n",
              "      --disabled-fill-color: #AAA;\n",
              "      --disabled-bg-color: #DDD;\n",
              "  }\n",
              "\n",
              "  [theme=dark] .colab-df-quickchart {\n",
              "      --bg-color: #3B4455;\n",
              "      --fill-color: #D2E3FC;\n",
              "      --hover-bg-color: #434B5C;\n",
              "      --hover-fill-color: #FFFFFF;\n",
              "      --disabled-bg-color: #3B4455;\n",
              "      --disabled-fill-color: #666;\n",
              "  }\n",
              "\n",
              "  .colab-df-quickchart {\n",
              "    background-color: var(--bg-color);\n",
              "    border: none;\n",
              "    border-radius: 50%;\n",
              "    cursor: pointer;\n",
              "    display: none;\n",
              "    fill: var(--fill-color);\n",
              "    height: 32px;\n",
              "    padding: 0;\n",
              "    width: 32px;\n",
              "  }\n",
              "\n",
              "  .colab-df-quickchart:hover {\n",
              "    background-color: var(--hover-bg-color);\n",
              "    box-shadow: 0 1px 2px rgba(60, 64, 67, 0.3), 0 1px 3px 1px rgba(60, 64, 67, 0.15);\n",
              "    fill: var(--button-hover-fill-color);\n",
              "  }\n",
              "\n",
              "  .colab-df-quickchart-complete:disabled,\n",
              "  .colab-df-quickchart-complete:disabled:hover {\n",
              "    background-color: var(--disabled-bg-color);\n",
              "    fill: var(--disabled-fill-color);\n",
              "    box-shadow: none;\n",
              "  }\n",
              "\n",
              "  .colab-df-spinner {\n",
              "    border: 2px solid var(--fill-color);\n",
              "    border-color: transparent;\n",
              "    border-bottom-color: var(--fill-color);\n",
              "    animation:\n",
              "      spin 1s steps(1) infinite;\n",
              "  }\n",
              "\n",
              "  @keyframes spin {\n",
              "    0% {\n",
              "      border-color: transparent;\n",
              "      border-bottom-color: var(--fill-color);\n",
              "      border-left-color: var(--fill-color);\n",
              "    }\n",
              "    20% {\n",
              "      border-color: transparent;\n",
              "      border-left-color: var(--fill-color);\n",
              "      border-top-color: var(--fill-color);\n",
              "    }\n",
              "    30% {\n",
              "      border-color: transparent;\n",
              "      border-left-color: var(--fill-color);\n",
              "      border-top-color: var(--fill-color);\n",
              "      border-right-color: var(--fill-color);\n",
              "    }\n",
              "    40% {\n",
              "      border-color: transparent;\n",
              "      border-right-color: var(--fill-color);\n",
              "      border-top-color: var(--fill-color);\n",
              "    }\n",
              "    60% {\n",
              "      border-color: transparent;\n",
              "      border-right-color: var(--fill-color);\n",
              "    }\n",
              "    80% {\n",
              "      border-color: transparent;\n",
              "      border-right-color: var(--fill-color);\n",
              "      border-bottom-color: var(--fill-color);\n",
              "    }\n",
              "    90% {\n",
              "      border-color: transparent;\n",
              "      border-bottom-color: var(--fill-color);\n",
              "    }\n",
              "  }\n",
              "</style>\n",
              "\n",
              "  <script>\n",
              "    async function quickchart(key) {\n",
              "      const quickchartButtonEl =\n",
              "        document.querySelector('#' + key + ' button');\n",
              "      quickchartButtonEl.disabled = true;  // To prevent multiple clicks.\n",
              "      quickchartButtonEl.classList.add('colab-df-spinner');\n",
              "      try {\n",
              "        const charts = await google.colab.kernel.invokeFunction(\n",
              "            'suggestCharts', [key], {});\n",
              "      } catch (error) {\n",
              "        console.error('Error during call to suggestCharts:', error);\n",
              "      }\n",
              "      quickchartButtonEl.classList.remove('colab-df-spinner');\n",
              "      quickchartButtonEl.classList.add('colab-df-quickchart-complete');\n",
              "    }\n",
              "    (() => {\n",
              "      let quickchartButtonEl =\n",
              "        document.querySelector('#df-d9442786-8462-4998-a502-e2b29e71b7a6 button');\n",
              "      quickchartButtonEl.style.display =\n",
              "        google.colab.kernel.accessAllowed ? 'block' : 'none';\n",
              "    })();\n",
              "  </script>\n",
              "</div>\n",
              "\n",
              "  <div id=\"id_a645151d-c311-4853-8cd3-445d1e4d2a63\">\n",
              "    <style>\n",
              "      .colab-df-generate {\n",
              "        background-color: #E8F0FE;\n",
              "        border: none;\n",
              "        border-radius: 50%;\n",
              "        cursor: pointer;\n",
              "        display: none;\n",
              "        fill: #1967D2;\n",
              "        height: 32px;\n",
              "        padding: 0 0 0 0;\n",
              "        width: 32px;\n",
              "      }\n",
              "\n",
              "      .colab-df-generate:hover {\n",
              "        background-color: #E2EBFA;\n",
              "        box-shadow: 0px 1px 2px rgba(60, 64, 67, 0.3), 0px 1px 3px 1px rgba(60, 64, 67, 0.15);\n",
              "        fill: #174EA6;\n",
              "      }\n",
              "\n",
              "      [theme=dark] .colab-df-generate {\n",
              "        background-color: #3B4455;\n",
              "        fill: #D2E3FC;\n",
              "      }\n",
              "\n",
              "      [theme=dark] .colab-df-generate:hover {\n",
              "        background-color: #434B5C;\n",
              "        box-shadow: 0px 1px 3px 1px rgba(0, 0, 0, 0.15);\n",
              "        filter: drop-shadow(0px 1px 2px rgba(0, 0, 0, 0.3));\n",
              "        fill: #FFFFFF;\n",
              "      }\n",
              "    </style>\n",
              "    <button class=\"colab-df-generate\" onclick=\"generateWithVariable('data')\"\n",
              "            title=\"Generate code using this dataframe.\"\n",
              "            style=\"display:none;\">\n",
              "\n",
              "  <svg xmlns=\"http://www.w3.org/2000/svg\" height=\"24px\"viewBox=\"0 0 24 24\"\n",
              "       width=\"24px\">\n",
              "    <path d=\"M7,19H8.4L18.45,9,17,7.55,7,17.6ZM5,21V16.75L18.45,3.32a2,2,0,0,1,2.83,0l1.4,1.43a1.91,1.91,0,0,1,.58,1.4,1.91,1.91,0,0,1-.58,1.4L9.25,21ZM18.45,9,17,7.55Zm-12,3A5.31,5.31,0,0,0,4.9,8.1,5.31,5.31,0,0,0,1,6.5,5.31,5.31,0,0,0,4.9,4.9,5.31,5.31,0,0,0,6.5,1,5.31,5.31,0,0,0,8.1,4.9,5.31,5.31,0,0,0,12,6.5,5.46,5.46,0,0,0,6.5,12Z\"/>\n",
              "  </svg>\n",
              "    </button>\n",
              "    <script>\n",
              "      (() => {\n",
              "      const buttonEl =\n",
              "        document.querySelector('#id_a645151d-c311-4853-8cd3-445d1e4d2a63 button.colab-df-generate');\n",
              "      buttonEl.style.display =\n",
              "        google.colab.kernel.accessAllowed ? 'block' : 'none';\n",
              "\n",
              "      buttonEl.onclick = () => {\n",
              "        google.colab.notebook.generateWithVariable('data');\n",
              "      }\n",
              "      })();\n",
              "    </script>\n",
              "  </div>\n",
              "\n",
              "    </div>\n",
              "  </div>\n"
            ],
            "application/vnd.google.colaboratory.intrinsic+json": {
              "type": "dataframe",
              "variable_name": "data"
            }
          },
          "metadata": {},
          "execution_count": 26
        }
      ]
    },
    {
      "cell_type": "markdown",
      "source": [
        "## Task 1"
      ],
      "metadata": {
        "id": "pMAGyc7bwLAV"
      }
    },
    {
      "cell_type": "code",
      "source": [
        "y = data['class']\n",
        "X = data.drop('class',axis=1)"
      ],
      "metadata": {
        "id": "HCXtdVgZwJ_5"
      },
      "execution_count": null,
      "outputs": []
    },
    {
      "source": [
        "# # Convert \"na\" to NaN\n",
        "# X = X.replace('na', np.nan)\n",
        "\n",
        "# imputer = SimpleImputer(strategy='mean')\n",
        "# X = imputer.fit_transform(X)"
      ],
      "cell_type": "code",
      "metadata": {
        "id": "cWq8i7C13U7V"
      },
      "execution_count": null,
      "outputs": []
    },
    {
      "cell_type": "code",
      "source": [
        "X_train, X_test, y_train, y_test = train_test_split(X, y, test_size=0.2, random_state=42)"
      ],
      "metadata": {
        "id": "Ye3FAorw3rIC"
      },
      "execution_count": null,
      "outputs": []
    },
    {
      "cell_type": "code",
      "source": [
        "# Scale the features\n",
        "scaler = StandardScaler()\n",
        "X_train_scaled = scaler.fit_transform(X_train)\n",
        "X_test_scaled = scaler.transform(X_test)\n",
        "\n",
        "# Convert y_train and y_test to NumPy arrays\n",
        "y_train = y_train.to_numpy()\n",
        "y_test = y_test.to_numpy()"
      ],
      "metadata": {
        "id": "8-9EA5Ht50z1"
      },
      "execution_count": null,
      "outputs": []
    },
    {
      "cell_type": "markdown",
      "source": [
        "Train baseline models"
      ],
      "metadata": {
        "id": "oNoWPhoO36UG"
      }
    },
    {
      "cell_type": "code",
      "source": [
        "svc_param = {\n",
        "    'kernel': ['linear', 'rbf', 'sigmoid'],\n",
        "    'C': [1e2, 1e3, 1e4, 1e5],\n",
        "    'gamma': ['scale', 'auto'],\n",
        "}\n",
        "\n",
        "svc_raw = GridSearchCV(SVC(), param_grid=svc_param, cv=5, n_jobs=-1, scoring='f1_macro')\n",
        "svc_raw.fit(X_train, y_train)\n",
        "svc_best = svc_raw.best_estimator_\n",
        "\n",
        "print(\"Best Params for SVC:\", svc_raw.best_params_)\n",
        "\n",
        "svc_pred = svc_best.predict(X_test)\n",
        "macro_f1_svc = f1_score(y_test, svc_pred, average='macro')\n",
        "print(\"Macro-average F1-score for SVC:\", macro_f1_svc)\n",
        "print(classification_report(y_test, svc_pred))"
      ],
      "metadata": {
        "colab": {
          "base_uri": "https://localhost:8080/"
        },
        "id": "u3WUI9iu5xA9",
        "outputId": "3f59a22b-aaf8-4488-a255-8c9f53f94c9a"
      },
      "execution_count": null,
      "outputs": [
        {
          "output_type": "stream",
          "name": "stdout",
          "text": [
            "Best Params for SVC: {'C': 10000.0, 'gamma': 'scale', 'kernel': 'rbf'}\n",
            "Macro-average F1-score for SVC: 0.9073208722741433\n",
            "              precision    recall  f1-score   support\n",
            "\n",
            "           0       0.97      0.99      0.98       106\n",
            "           1       0.91      0.77      0.83        13\n",
            "\n",
            "    accuracy                           0.97       119\n",
            "   macro avg       0.94      0.88      0.91       119\n",
            "weighted avg       0.97      0.97      0.97       119\n",
            "\n"
          ]
        }
      ]
    },
    {
      "cell_type": "code",
      "source": [
        "logreg_params = {\n",
        "    'penalty': ['l2', 'l1'],\n",
        "    'C': [1e-4, 1e-3, 1e-2, 1],\n",
        "    'solver': ['liblinear', 'saga']\n",
        "}\n",
        "\n",
        "logreg_raw = GridSearchCV(LogisticRegression(), param_grid=logreg_params, cv=5, n_jobs=-1, scoring='f1_macro')\n",
        "logreg_raw.fit(X_train, y_train)\n",
        "logreg_best = logreg_raw.best_estimator_\n",
        "\n",
        "print(\"Best Params for Logistic Regression:\", logreg_raw.best_params_)\n",
        "\n",
        "logreg_pred = logreg_best.predict(X_test)\n",
        "macro_f1_logreg = f1_score(y_test, logreg_pred, average='macro')\n",
        "print(\"Macro-average F1-score for Logistic regression:\", macro_f1_logreg)\n",
        "print(classification_report(y_test, logreg_pred))"
      ],
      "metadata": {
        "id": "1tudjbd9wR9W",
        "colab": {
          "base_uri": "https://localhost:8080/"
        },
        "outputId": "f8dd548b-d16a-40ab-e589-ae54aa8ab222"
      },
      "execution_count": null,
      "outputs": [
        {
          "output_type": "stream",
          "name": "stdout",
          "text": [
            "Best Params for Logistic Regression: {'C': 0.001, 'penalty': 'l1', 'solver': 'liblinear'}\n",
            "Macro-average F1-score for Logistic regression: 0.8882629107981221\n",
            "              precision    recall  f1-score   support\n",
            "\n",
            "           0       0.97      0.98      0.98       106\n",
            "           1       0.83      0.77      0.80        13\n",
            "\n",
            "    accuracy                           0.96       119\n",
            "   macro avg       0.90      0.88      0.89       119\n",
            "weighted avg       0.96      0.96      0.96       119\n",
            "\n"
          ]
        }
      ]
    },
    {
      "cell_type": "code",
      "source": [
        "dt_params = {\n",
        "    'max_depth': [2, 3, 5, 10, 15],\n",
        "    'min_samples_leaf': [1, 2, 4, 6, 8],\n",
        "    'min_samples_split': [2, 3, 4, 6]\n",
        "}\n",
        "\n",
        "dt_raw = GridSearchCV(DecisionTreeClassifier(), param_grid=dt_params, cv=5, n_jobs=-1, scoring='f1_macro')\n",
        "dt_raw.fit(X_train, y_train)\n",
        "dt_best = dt_raw.best_estimator_\n",
        "\n",
        "print(\"Best Params for Decision Tree:\", dt_raw.best_params_)\n",
        "\n",
        "dt_pred = dt_best.predict(X_test)\n",
        "macro_f1_dt = f1_score(y_test, dt_pred, average='macro')\n",
        "print(\"Macro-average F1-score for decision tree :\", macro_f1_dt)\n",
        "print(classification_report(y_test, dt_pred))"
      ],
      "metadata": {
        "colab": {
          "base_uri": "https://localhost:8080/"
        },
        "id": "hEOjj0gHwR1E",
        "outputId": "2aadb708-ad06-4ef1-a77f-cdea1f766e21"
      },
      "execution_count": null,
      "outputs": [
        {
          "output_type": "stream",
          "name": "stdout",
          "text": [
            "Best Params for Decision Tree: {'max_depth': 5, 'min_samples_leaf': 1, 'min_samples_split': 4}\n",
            "Macro-average F1-score for decision tree : 0.860981308411215\n",
            "              precision    recall  f1-score   support\n",
            "\n",
            "           0       0.96      0.98      0.97       106\n",
            "           1       0.82      0.69      0.75        13\n",
            "\n",
            "    accuracy                           0.95       119\n",
            "   macro avg       0.89      0.84      0.86       119\n",
            "weighted avg       0.95      0.95      0.95       119\n",
            "\n"
          ]
        }
      ]
    },
    {
      "cell_type": "markdown",
      "source": [
        "## Task 2"
      ],
      "metadata": {
        "id": "Fk9yIqF--sdm"
      }
    },
    {
      "cell_type": "markdown",
      "source": [
        "Data visualisation"
      ],
      "metadata": {
        "id": "Q69hfPOOzaL6"
      }
    },
    {
      "cell_type": "code",
      "source": [
        "over_sampler = RandomOverSampler(random_state=42)\n",
        "X_ros, y_ros = over_sampler.fit_resample(X_train, y_train)"
      ],
      "metadata": {
        "id": "UicwhO1LzZxO"
      },
      "execution_count": null,
      "outputs": []
    },
    {
      "cell_type": "code",
      "source": [
        "svc_param_new = {\n",
        "    'kernel': ['linear', 'rbf', 'sigmoid'],\n",
        "    'C': [0.01, 0.1],\n",
        "    'gamma': ['scale', 'auto'],\n",
        "}\n",
        "\n",
        "svc_new1 = GridSearchCV(SVC(), param_grid=svc_param_new, cv=5, n_jobs=-1, scoring='f1_macro')\n",
        "svc_new1.fit(X_ros, y_ros)\n",
        "svc_new1_best = svc_new1.best_estimator_\n",
        "\n",
        "print(\"Best Params for SVC:\", svc_new1.best_params_)\n",
        "\n",
        "svc_pred_new1 = svc_new1_best.predict(X_test)\n",
        "macro_f1_svc_new1 = f1_score(y_test, svc_pred_new1, average='macro')\n",
        "print(\"Macro-average F1-score for SVC:\", macro_f1_svc_new1)\n",
        "print(classification_report(y_test, svc_pred_new1))"
      ],
      "metadata": {
        "id": "sRdY6e9aSvPZ"
      },
      "execution_count": null,
      "outputs": []
    },
    {
      "cell_type": "code",
      "source": [
        "logreg_params_new = {\n",
        "    'penalty': ['l2', 'l1'],\n",
        "    'C': [1e-3, 1e-2, 1e-1, 1],\n",
        "}\n",
        "\n",
        "logreg_new1 = GridSearchCV(LogisticRegression(solver='saga', tol=1e-3), param_grid=logreg_params_new, cv=5, n_jobs=-1, scoring='f1_macro')\n",
        "logreg_new1.fit(X_ros, y_ros)\n",
        "logreg_new1_best = logreg_new1.best_estimator_\n",
        "\n",
        "print(\"Best Params for Logistic Regression:\", logreg_new1.best_params_)\n",
        "\n",
        "logreg_pred_new1 = logreg_new1_best.predict(X_test_scaled)\n",
        "macro_f1_logreg_new1 = f1_score(y_test, logreg_pred_new1, average='macro')\n",
        "print(\"Macro-average F1-score for Logistic regression:\", macro_f1_logreg_new1)\n",
        "print(classification_report(y_test, logreg_pred_new1))"
      ],
      "metadata": {
        "id": "spkViqqfzhiL",
        "colab": {
          "base_uri": "https://localhost:8080/"
        },
        "outputId": "9b87c0f1-6b54-4121-e4b6-2cced0d41c4e"
      },
      "execution_count": null,
      "outputs": [
        {
          "output_type": "stream",
          "name": "stdout",
          "text": [
            "Best Params for Logistic Regression: {'C': 1, 'penalty': 'l1'}\n",
            "Macro-average F1-score for Logistic regression: 0.8955590661751799\n",
            "              precision    recall  f1-score   support\n",
            "\n",
            "           0       0.98      0.97      0.98       106\n",
            "           1       0.79      0.85      0.81        13\n",
            "\n",
            "    accuracy                           0.96       119\n",
            "   macro avg       0.88      0.91      0.90       119\n",
            "weighted avg       0.96      0.96      0.96       119\n",
            "\n"
          ]
        },
        {
          "output_type": "stream",
          "name": "stderr",
          "text": [
            "/usr/local/lib/python3.10/dist-packages/sklearn/linear_model/_sag.py:349: ConvergenceWarning: The max_iter was reached which means the coef_ did not converge\n",
            "  warnings.warn(\n"
          ]
        }
      ]
    },
    {
      "cell_type": "code",
      "source": [
        "dt_params_new = {\n",
        "    'max_depth': [5, 10, 15, 20],\n",
        "    'min_samples_leaf': [1, 3, 5],\n",
        "    'min_samples_split': [2, 3, 4, 5, 6]\n",
        "}\n",
        "\n",
        "dt_new1 = GridSearchCV(DecisionTreeClassifier(), param_grid=dt_params_new, cv=5, n_jobs=-1, scoring='f1_macro')\n",
        "dt_new1.fit(X_ros, y_ros)\n",
        "dt_new1_best = dt_new1.best_estimator_\n",
        "\n",
        "print(\"Best Params for Decision Tree:\", dt_new1.best_params_)\n",
        "\n",
        "dt_pred_new1 = dt_new1_best.predict(X_test_scaled)\n",
        "macro_f1_dt_new1 = f1_score(y_test, dt_pred_new1, average='macro')\n",
        "print(\"Macro-average F1-score for decision tree :\", macro_f1_dt_new1)\n",
        "print(classification_report(y_test, dt_pred_new1))"
      ],
      "metadata": {
        "colab": {
          "base_uri": "https://localhost:8080/"
        },
        "id": "i4KaPwTC8fqn",
        "outputId": "da2e10cb-c1e2-48f0-d8de-b6cc7b035675"
      },
      "execution_count": null,
      "outputs": [
        {
          "output_type": "stream",
          "name": "stdout",
          "text": [
            "Best Params for Decision Tree: {'max_depth': 15, 'min_samples_leaf': 1, 'min_samples_split': 4}\n",
            "Macro-average F1-score for decision tree : 0.8146417445482865\n",
            "              precision    recall  f1-score   support\n",
            "\n",
            "           0       0.95      0.97      0.96       106\n",
            "           1       0.73      0.62      0.67        13\n",
            "\n",
            "    accuracy                           0.93       119\n",
            "   macro avg       0.84      0.79      0.81       119\n",
            "weighted avg       0.93      0.93      0.93       119\n",
            "\n"
          ]
        }
      ]
    },
    {
      "cell_type": "code",
      "source": [
        "wt = np.where(y_train == 0,(1/np.sum(y_train == 0)),(1/np.sum(y_train == 1)))\n",
        "wt = wt / np.sum(wt)\n",
        "\n",
        "samples = np.random.choice(np.arange(0, len(X_train)), p=wt,size=len(X_train))\n",
        "\n",
        "X_class_weight = X_train.iloc[samples]\n",
        "y_class_weight = y_train.iloc[samples]\n",
        "predictor_class_weight.fit(X_ros,y_ros)\n",
        "predictor_class_weight.predict(X_test,y_test)"
      ],
      "metadata": {
        "id": "eAA8w4tk4xSj"
      },
      "execution_count": null,
      "outputs": []
    },
    {
      "cell_type": "code",
      "source": [],
      "metadata": {
        "id": "9NRcLw864xPN"
      },
      "execution_count": null,
      "outputs": []
    },
    {
      "cell_type": "markdown",
      "source": [
        "Undersampling"
      ],
      "metadata": {
        "id": "PXZ32jRIa5Cb"
      }
    },
    {
      "cell_type": "code",
      "source": [
        "undersampler = RandomUnderSampler()\n",
        "X_und_samp, y_und_samp = undersampler.fit_resample(X_train_scaled, y_train)\n",
        "\n",
        "smote = SMOTE()\n",
        "X_ov_samp, y_ov_samp = smote.fit_resample(X_train_scaled, y_train)"
      ],
      "metadata": {
        "id": "LUY11_QK6_6J"
      },
      "execution_count": null,
      "outputs": []
    },
    {
      "cell_type": "code",
      "source": [
        "logreg_params = {\n",
        "    'penalty': ['l2', 'l1'],\n",
        "    'C': [1e-2, 1e-1, 1],\n",
        "}\n",
        "\n",
        "logreg_new1 = GridSearchCV(LogisticRegression(solver='saga', max_iter=1000, class_weight='balanced'), param_grid=logreg_params, cv=3, n_jobs=-1, scoring='f1_macro')\n",
        "logreg_new1.fit(X_und_samp, y_und_samp)\n",
        "logreg_best1 = logreg_new1.best_estimator_\n",
        "\n",
        "print(\"Best Params for Logistic Regression:\", logreg_new1.best_params_)\n",
        "\n",
        "logreg_pred1 = logreg_best1.predict(X_test_scaled)\n",
        "macro_f1_logreg1 = f1_score(y_test, logreg_pred1, average='macro')\n",
        "print(\"Macro-average F1-score for Logistic regression:\", macro_f1_logreg1)\n",
        "print(classification_report(y_test, logreg_pred1))"
      ],
      "metadata": {
        "colab": {
          "base_uri": "https://localhost:8080/"
        },
        "id": "SklTDNmpaOn1",
        "outputId": "5d71ef27-57d2-4563-e82d-f0440e84b5e2"
      },
      "execution_count": null,
      "outputs": [
        {
          "output_type": "stream",
          "name": "stdout",
          "text": [
            "Best Params for Logistic Regression: {'C': 1, 'penalty': 'l1'}\n",
            "Macro-average F1-score for Logistic regression: 0.7101257781730403\n",
            "              precision    recall  f1-score   support\n",
            "\n",
            "           0       1.00      0.96      0.98     17698\n",
            "           1       0.29      0.93      0.44       302\n",
            "\n",
            "    accuracy                           0.96     18000\n",
            "   macro avg       0.64      0.95      0.71     18000\n",
            "weighted avg       0.99      0.96      0.97     18000\n",
            "\n"
          ]
        },
        {
          "output_type": "stream",
          "name": "stderr",
          "text": [
            "/usr/local/lib/python3.10/dist-packages/sklearn/linear_model/_sag.py:349: ConvergenceWarning: The max_iter was reached which means the coef_ did not converge\n",
            "  warnings.warn(\n"
          ]
        }
      ]
    },
    {
      "cell_type": "markdown",
      "source": [
        "Oversampling"
      ],
      "metadata": {
        "id": "XseyntUKa9m5"
      }
    },
    {
      "cell_type": "code",
      "source": [
        "logreg_new2 = GridSearchCV(LogisticRegression(solver='saga', max_iter=100, tol=1e-3), param_grid=logreg_params, cv=3, n_jobs=-1, scoring='f1_macro')\n",
        "logreg_new2.fit(X_ov_samp, y_ov_samp)\n",
        "logreg_best2 = logreg_new2.best_estimator_\n",
        "\n",
        "print(\"Best Params for Logistic Regression:\", logreg_new2.best_params_)\n",
        "\n",
        "logreg_pred2 = logreg_best2.predict(X_test_scaled)\n",
        "macro_f1_logreg2 = f1_score(y_test, logreg_pred2, average='macro')\n",
        "print(\"Macro-average F1-score for Logistic regression:\", macro_f1_logreg2)\n",
        "print(classification_report(y_test, logreg_pred2))"
      ],
      "metadata": {
        "colab": {
          "base_uri": "https://localhost:8080/"
        },
        "id": "EK7L48era_x1",
        "outputId": "36cfe60c-91f3-4ee1-8473-5fb6b83d8509"
      },
      "execution_count": null,
      "outputs": [
        {
          "output_type": "stream",
          "name": "stdout",
          "text": [
            "Best Params for Logistic Regression: {'C': 0.1, 'penalty': 'l2'}\n",
            "Macro-average F1-score for Logistic regression: 0.7573303976230217\n",
            "              precision    recall  f1-score   support\n",
            "\n",
            "           0       1.00      0.97      0.99     17698\n",
            "           1       0.37      0.91      0.53       302\n",
            "\n",
            "    accuracy                           0.97     18000\n",
            "   macro avg       0.69      0.94      0.76     18000\n",
            "weighted avg       0.99      0.97      0.98     18000\n",
            "\n"
          ]
        },
        {
          "output_type": "stream",
          "name": "stderr",
          "text": [
            "/usr/local/lib/python3.10/dist-packages/sklearn/linear_model/_sag.py:349: ConvergenceWarning: The max_iter was reached which means the coef_ did not converge\n",
            "  warnings.warn(\n"
          ]
        }
      ]
    },
    {
      "cell_type": "markdown",
      "source": [
        "Class weights"
      ],
      "metadata": {
        "id": "O1V7GT5TdK6l"
      }
    },
    {
      "cell_type": "code",
      "source": [
        "logreg_wt = GridSearchCV(LogisticRegression(solver='saga', max_iter=1000, class_weight='balanced'), param_grid=logreg_params, cv=3, n_jobs=-1, scoring='f1_macro')\n",
        "logreg_wt.fit(X_train_scaled, y_train)\n",
        "logreg_best3 = logreg_wt.best_estimator_\n",
        "\n",
        "print(\"Best Params for Logistic Regression:\", logreg_wt.best_params_)\n",
        "\n",
        "logreg_pred3 = logreg_best3.predict(X_test_scaled)\n",
        "macro_f1_logreg_wt = f1_score(y_test, logreg_pred3, average='macro')\n",
        "print(\"Macro-average F1-score for Logistic regression:\", macro_f1_logreg_wt)\n",
        "print(classification_report(y_test, logreg_pred3))"
      ],
      "metadata": {
        "colab": {
          "base_uri": "https://localhost:8080/"
        },
        "id": "PBjWoIG6xtwG",
        "outputId": "ff9911af-fa1a-4e52-95f5-8ea2c8ff3d5c"
      },
      "execution_count": null,
      "outputs": [
        {
          "output_type": "stream",
          "name": "stdout",
          "text": [
            "Best Params for Logistic Regression: {'C': 0.01, 'penalty': 'l2'}\n",
            "Macro-average F1-score for Logistic regression: 0.754297715165313\n",
            "              precision    recall  f1-score   support\n",
            "\n",
            "           0       1.00      0.97      0.99     17698\n",
            "           1       0.37      0.91      0.52       302\n",
            "\n",
            "    accuracy                           0.97     18000\n",
            "   macro avg       0.68      0.94      0.75     18000\n",
            "weighted avg       0.99      0.97      0.98     18000\n",
            "\n"
          ]
        },
        {
          "output_type": "stream",
          "name": "stderr",
          "text": [
            "/usr/local/lib/python3.10/dist-packages/sklearn/linear_model/_sag.py:349: ConvergenceWarning: The max_iter was reached which means the coef_ did not converge\n",
            "  warnings.warn(\n"
          ]
        }
      ]
    },
    {
      "cell_type": "code",
      "source": [],
      "metadata": {
        "id": "BH2VxF7ayoAZ"
      },
      "execution_count": null,
      "outputs": []
    },
    {
      "cell_type": "code",
      "source": [],
      "metadata": {
        "id": "rHuW_j2oyn85"
      },
      "execution_count": null,
      "outputs": []
    },
    {
      "cell_type": "code",
      "source": [
        "svc = SVC(class_weight='balanced')     # Automatically adjust weights inversely proportional to class frequencies\n",
        "logreg = LogisticRegression(class_weight='balanced')\n",
        "dt = DecisionTreeClassifier(class_weight='balanced')\n",
        "\n",
        "# Compute weights for each sample\n",
        "sample_weights = compute_sample_weight(class_weight='balanced', y=y_train)"
      ],
      "metadata": {
        "id": "mJZAX75kVOOV"
      },
      "execution_count": null,
      "outputs": []
    },
    {
      "cell_type": "code",
      "source": [
        "# Pass these sample weights to the classifier during training\n",
        "svc.fit(X_train_scaled, y_train, sample_weight=sample_weights)"
      ],
      "metadata": {
        "colab": {
          "base_uri": "https://localhost:8080/",
          "height": 80
        },
        "id": "N-zrCLgWVOK-",
        "outputId": "9828e3a2-d071-4a99-aa5a-4a0b1065150d"
      },
      "execution_count": null,
      "outputs": [
        {
          "output_type": "execute_result",
          "data": {
            "text/plain": [
              "SVC(class_weight='balanced')"
            ],
            "text/html": [
              "<style>#sk-container-id-2 {\n",
              "  /* Definition of color scheme common for light and dark mode */\n",
              "  --sklearn-color-text: black;\n",
              "  --sklearn-color-line: gray;\n",
              "  /* Definition of color scheme for unfitted estimators */\n",
              "  --sklearn-color-unfitted-level-0: #fff5e6;\n",
              "  --sklearn-color-unfitted-level-1: #f6e4d2;\n",
              "  --sklearn-color-unfitted-level-2: #ffe0b3;\n",
              "  --sklearn-color-unfitted-level-3: chocolate;\n",
              "  /* Definition of color scheme for fitted estimators */\n",
              "  --sklearn-color-fitted-level-0: #f0f8ff;\n",
              "  --sklearn-color-fitted-level-1: #d4ebff;\n",
              "  --sklearn-color-fitted-level-2: #b3dbfd;\n",
              "  --sklearn-color-fitted-level-3: cornflowerblue;\n",
              "\n",
              "  /* Specific color for light theme */\n",
              "  --sklearn-color-text-on-default-background: var(--sg-text-color, var(--theme-code-foreground, var(--jp-content-font-color1, black)));\n",
              "  --sklearn-color-background: var(--sg-background-color, var(--theme-background, var(--jp-layout-color0, white)));\n",
              "  --sklearn-color-border-box: var(--sg-text-color, var(--theme-code-foreground, var(--jp-content-font-color1, black)));\n",
              "  --sklearn-color-icon: #696969;\n",
              "\n",
              "  @media (prefers-color-scheme: dark) {\n",
              "    /* Redefinition of color scheme for dark theme */\n",
              "    --sklearn-color-text-on-default-background: var(--sg-text-color, var(--theme-code-foreground, var(--jp-content-font-color1, white)));\n",
              "    --sklearn-color-background: var(--sg-background-color, var(--theme-background, var(--jp-layout-color0, #111)));\n",
              "    --sklearn-color-border-box: var(--sg-text-color, var(--theme-code-foreground, var(--jp-content-font-color1, white)));\n",
              "    --sklearn-color-icon: #878787;\n",
              "  }\n",
              "}\n",
              "\n",
              "#sk-container-id-2 {\n",
              "  color: var(--sklearn-color-text);\n",
              "}\n",
              "\n",
              "#sk-container-id-2 pre {\n",
              "  padding: 0;\n",
              "}\n",
              "\n",
              "#sk-container-id-2 input.sk-hidden--visually {\n",
              "  border: 0;\n",
              "  clip: rect(1px 1px 1px 1px);\n",
              "  clip: rect(1px, 1px, 1px, 1px);\n",
              "  height: 1px;\n",
              "  margin: -1px;\n",
              "  overflow: hidden;\n",
              "  padding: 0;\n",
              "  position: absolute;\n",
              "  width: 1px;\n",
              "}\n",
              "\n",
              "#sk-container-id-2 div.sk-dashed-wrapped {\n",
              "  border: 1px dashed var(--sklearn-color-line);\n",
              "  margin: 0 0.4em 0.5em 0.4em;\n",
              "  box-sizing: border-box;\n",
              "  padding-bottom: 0.4em;\n",
              "  background-color: var(--sklearn-color-background);\n",
              "}\n",
              "\n",
              "#sk-container-id-2 div.sk-container {\n",
              "  /* jupyter's `normalize.less` sets `[hidden] { display: none; }`\n",
              "     but bootstrap.min.css set `[hidden] { display: none !important; }`\n",
              "     so we also need the `!important` here to be able to override the\n",
              "     default hidden behavior on the sphinx rendered scikit-learn.org.\n",
              "     See: https://github.com/scikit-learn/scikit-learn/issues/21755 */\n",
              "  display: inline-block !important;\n",
              "  position: relative;\n",
              "}\n",
              "\n",
              "#sk-container-id-2 div.sk-text-repr-fallback {\n",
              "  display: none;\n",
              "}\n",
              "\n",
              "div.sk-parallel-item,\n",
              "div.sk-serial,\n",
              "div.sk-item {\n",
              "  /* draw centered vertical line to link estimators */\n",
              "  background-image: linear-gradient(var(--sklearn-color-text-on-default-background), var(--sklearn-color-text-on-default-background));\n",
              "  background-size: 2px 100%;\n",
              "  background-repeat: no-repeat;\n",
              "  background-position: center center;\n",
              "}\n",
              "\n",
              "/* Parallel-specific style estimator block */\n",
              "\n",
              "#sk-container-id-2 div.sk-parallel-item::after {\n",
              "  content: \"\";\n",
              "  width: 100%;\n",
              "  border-bottom: 2px solid var(--sklearn-color-text-on-default-background);\n",
              "  flex-grow: 1;\n",
              "}\n",
              "\n",
              "#sk-container-id-2 div.sk-parallel {\n",
              "  display: flex;\n",
              "  align-items: stretch;\n",
              "  justify-content: center;\n",
              "  background-color: var(--sklearn-color-background);\n",
              "  position: relative;\n",
              "}\n",
              "\n",
              "#sk-container-id-2 div.sk-parallel-item {\n",
              "  display: flex;\n",
              "  flex-direction: column;\n",
              "}\n",
              "\n",
              "#sk-container-id-2 div.sk-parallel-item:first-child::after {\n",
              "  align-self: flex-end;\n",
              "  width: 50%;\n",
              "}\n",
              "\n",
              "#sk-container-id-2 div.sk-parallel-item:last-child::after {\n",
              "  align-self: flex-start;\n",
              "  width: 50%;\n",
              "}\n",
              "\n",
              "#sk-container-id-2 div.sk-parallel-item:only-child::after {\n",
              "  width: 0;\n",
              "}\n",
              "\n",
              "/* Serial-specific style estimator block */\n",
              "\n",
              "#sk-container-id-2 div.sk-serial {\n",
              "  display: flex;\n",
              "  flex-direction: column;\n",
              "  align-items: center;\n",
              "  background-color: var(--sklearn-color-background);\n",
              "  padding-right: 1em;\n",
              "  padding-left: 1em;\n",
              "}\n",
              "\n",
              "\n",
              "/* Toggleable style: style used for estimator/Pipeline/ColumnTransformer box that is\n",
              "clickable and can be expanded/collapsed.\n",
              "- Pipeline and ColumnTransformer use this feature and define the default style\n",
              "- Estimators will overwrite some part of the style using the `sk-estimator` class\n",
              "*/\n",
              "\n",
              "/* Pipeline and ColumnTransformer style (default) */\n",
              "\n",
              "#sk-container-id-2 div.sk-toggleable {\n",
              "  /* Default theme specific background. It is overwritten whether we have a\n",
              "  specific estimator or a Pipeline/ColumnTransformer */\n",
              "  background-color: var(--sklearn-color-background);\n",
              "}\n",
              "\n",
              "/* Toggleable label */\n",
              "#sk-container-id-2 label.sk-toggleable__label {\n",
              "  cursor: pointer;\n",
              "  display: block;\n",
              "  width: 100%;\n",
              "  margin-bottom: 0;\n",
              "  padding: 0.5em;\n",
              "  box-sizing: border-box;\n",
              "  text-align: center;\n",
              "}\n",
              "\n",
              "#sk-container-id-2 label.sk-toggleable__label-arrow:before {\n",
              "  /* Arrow on the left of the label */\n",
              "  content: \"▸\";\n",
              "  float: left;\n",
              "  margin-right: 0.25em;\n",
              "  color: var(--sklearn-color-icon);\n",
              "}\n",
              "\n",
              "#sk-container-id-2 label.sk-toggleable__label-arrow:hover:before {\n",
              "  color: var(--sklearn-color-text);\n",
              "}\n",
              "\n",
              "/* Toggleable content - dropdown */\n",
              "\n",
              "#sk-container-id-2 div.sk-toggleable__content {\n",
              "  max-height: 0;\n",
              "  max-width: 0;\n",
              "  overflow: hidden;\n",
              "  text-align: left;\n",
              "  /* unfitted */\n",
              "  background-color: var(--sklearn-color-unfitted-level-0);\n",
              "}\n",
              "\n",
              "#sk-container-id-2 div.sk-toggleable__content.fitted {\n",
              "  /* fitted */\n",
              "  background-color: var(--sklearn-color-fitted-level-0);\n",
              "}\n",
              "\n",
              "#sk-container-id-2 div.sk-toggleable__content pre {\n",
              "  margin: 0.2em;\n",
              "  border-radius: 0.25em;\n",
              "  color: var(--sklearn-color-text);\n",
              "  /* unfitted */\n",
              "  background-color: var(--sklearn-color-unfitted-level-0);\n",
              "}\n",
              "\n",
              "#sk-container-id-2 div.sk-toggleable__content.fitted pre {\n",
              "  /* unfitted */\n",
              "  background-color: var(--sklearn-color-fitted-level-0);\n",
              "}\n",
              "\n",
              "#sk-container-id-2 input.sk-toggleable__control:checked~div.sk-toggleable__content {\n",
              "  /* Expand drop-down */\n",
              "  max-height: 200px;\n",
              "  max-width: 100%;\n",
              "  overflow: auto;\n",
              "}\n",
              "\n",
              "#sk-container-id-2 input.sk-toggleable__control:checked~label.sk-toggleable__label-arrow:before {\n",
              "  content: \"▾\";\n",
              "}\n",
              "\n",
              "/* Pipeline/ColumnTransformer-specific style */\n",
              "\n",
              "#sk-container-id-2 div.sk-label input.sk-toggleable__control:checked~label.sk-toggleable__label {\n",
              "  color: var(--sklearn-color-text);\n",
              "  background-color: var(--sklearn-color-unfitted-level-2);\n",
              "}\n",
              "\n",
              "#sk-container-id-2 div.sk-label.fitted input.sk-toggleable__control:checked~label.sk-toggleable__label {\n",
              "  background-color: var(--sklearn-color-fitted-level-2);\n",
              "}\n",
              "\n",
              "/* Estimator-specific style */\n",
              "\n",
              "/* Colorize estimator box */\n",
              "#sk-container-id-2 div.sk-estimator input.sk-toggleable__control:checked~label.sk-toggleable__label {\n",
              "  /* unfitted */\n",
              "  background-color: var(--sklearn-color-unfitted-level-2);\n",
              "}\n",
              "\n",
              "#sk-container-id-2 div.sk-estimator.fitted input.sk-toggleable__control:checked~label.sk-toggleable__label {\n",
              "  /* fitted */\n",
              "  background-color: var(--sklearn-color-fitted-level-2);\n",
              "}\n",
              "\n",
              "#sk-container-id-2 div.sk-label label.sk-toggleable__label,\n",
              "#sk-container-id-2 div.sk-label label {\n",
              "  /* The background is the default theme color */\n",
              "  color: var(--sklearn-color-text-on-default-background);\n",
              "}\n",
              "\n",
              "/* On hover, darken the color of the background */\n",
              "#sk-container-id-2 div.sk-label:hover label.sk-toggleable__label {\n",
              "  color: var(--sklearn-color-text);\n",
              "  background-color: var(--sklearn-color-unfitted-level-2);\n",
              "}\n",
              "\n",
              "/* Label box, darken color on hover, fitted */\n",
              "#sk-container-id-2 div.sk-label.fitted:hover label.sk-toggleable__label.fitted {\n",
              "  color: var(--sklearn-color-text);\n",
              "  background-color: var(--sklearn-color-fitted-level-2);\n",
              "}\n",
              "\n",
              "/* Estimator label */\n",
              "\n",
              "#sk-container-id-2 div.sk-label label {\n",
              "  font-family: monospace;\n",
              "  font-weight: bold;\n",
              "  display: inline-block;\n",
              "  line-height: 1.2em;\n",
              "}\n",
              "\n",
              "#sk-container-id-2 div.sk-label-container {\n",
              "  text-align: center;\n",
              "}\n",
              "\n",
              "/* Estimator-specific */\n",
              "#sk-container-id-2 div.sk-estimator {\n",
              "  font-family: monospace;\n",
              "  border: 1px dotted var(--sklearn-color-border-box);\n",
              "  border-radius: 0.25em;\n",
              "  box-sizing: border-box;\n",
              "  margin-bottom: 0.5em;\n",
              "  /* unfitted */\n",
              "  background-color: var(--sklearn-color-unfitted-level-0);\n",
              "}\n",
              "\n",
              "#sk-container-id-2 div.sk-estimator.fitted {\n",
              "  /* fitted */\n",
              "  background-color: var(--sklearn-color-fitted-level-0);\n",
              "}\n",
              "\n",
              "/* on hover */\n",
              "#sk-container-id-2 div.sk-estimator:hover {\n",
              "  /* unfitted */\n",
              "  background-color: var(--sklearn-color-unfitted-level-2);\n",
              "}\n",
              "\n",
              "#sk-container-id-2 div.sk-estimator.fitted:hover {\n",
              "  /* fitted */\n",
              "  background-color: var(--sklearn-color-fitted-level-2);\n",
              "}\n",
              "\n",
              "/* Specification for estimator info (e.g. \"i\" and \"?\") */\n",
              "\n",
              "/* Common style for \"i\" and \"?\" */\n",
              "\n",
              ".sk-estimator-doc-link,\n",
              "a:link.sk-estimator-doc-link,\n",
              "a:visited.sk-estimator-doc-link {\n",
              "  float: right;\n",
              "  font-size: smaller;\n",
              "  line-height: 1em;\n",
              "  font-family: monospace;\n",
              "  background-color: var(--sklearn-color-background);\n",
              "  border-radius: 1em;\n",
              "  height: 1em;\n",
              "  width: 1em;\n",
              "  text-decoration: none !important;\n",
              "  margin-left: 1ex;\n",
              "  /* unfitted */\n",
              "  border: var(--sklearn-color-unfitted-level-1) 1pt solid;\n",
              "  color: var(--sklearn-color-unfitted-level-1);\n",
              "}\n",
              "\n",
              ".sk-estimator-doc-link.fitted,\n",
              "a:link.sk-estimator-doc-link.fitted,\n",
              "a:visited.sk-estimator-doc-link.fitted {\n",
              "  /* fitted */\n",
              "  border: var(--sklearn-color-fitted-level-1) 1pt solid;\n",
              "  color: var(--sklearn-color-fitted-level-1);\n",
              "}\n",
              "\n",
              "/* On hover */\n",
              "div.sk-estimator:hover .sk-estimator-doc-link:hover,\n",
              ".sk-estimator-doc-link:hover,\n",
              "div.sk-label-container:hover .sk-estimator-doc-link:hover,\n",
              ".sk-estimator-doc-link:hover {\n",
              "  /* unfitted */\n",
              "  background-color: var(--sklearn-color-unfitted-level-3);\n",
              "  color: var(--sklearn-color-background);\n",
              "  text-decoration: none;\n",
              "}\n",
              "\n",
              "div.sk-estimator.fitted:hover .sk-estimator-doc-link.fitted:hover,\n",
              ".sk-estimator-doc-link.fitted:hover,\n",
              "div.sk-label-container:hover .sk-estimator-doc-link.fitted:hover,\n",
              ".sk-estimator-doc-link.fitted:hover {\n",
              "  /* fitted */\n",
              "  background-color: var(--sklearn-color-fitted-level-3);\n",
              "  color: var(--sklearn-color-background);\n",
              "  text-decoration: none;\n",
              "}\n",
              "\n",
              "/* Span, style for the box shown on hovering the info icon */\n",
              ".sk-estimator-doc-link span {\n",
              "  display: none;\n",
              "  z-index: 9999;\n",
              "  position: relative;\n",
              "  font-weight: normal;\n",
              "  right: .2ex;\n",
              "  padding: .5ex;\n",
              "  margin: .5ex;\n",
              "  width: min-content;\n",
              "  min-width: 20ex;\n",
              "  max-width: 50ex;\n",
              "  color: var(--sklearn-color-text);\n",
              "  box-shadow: 2pt 2pt 4pt #999;\n",
              "  /* unfitted */\n",
              "  background: var(--sklearn-color-unfitted-level-0);\n",
              "  border: .5pt solid var(--sklearn-color-unfitted-level-3);\n",
              "}\n",
              "\n",
              ".sk-estimator-doc-link.fitted span {\n",
              "  /* fitted */\n",
              "  background: var(--sklearn-color-fitted-level-0);\n",
              "  border: var(--sklearn-color-fitted-level-3);\n",
              "}\n",
              "\n",
              ".sk-estimator-doc-link:hover span {\n",
              "  display: block;\n",
              "}\n",
              "\n",
              "/* \"?\"-specific style due to the `<a>` HTML tag */\n",
              "\n",
              "#sk-container-id-2 a.estimator_doc_link {\n",
              "  float: right;\n",
              "  font-size: 1rem;\n",
              "  line-height: 1em;\n",
              "  font-family: monospace;\n",
              "  background-color: var(--sklearn-color-background);\n",
              "  border-radius: 1rem;\n",
              "  height: 1rem;\n",
              "  width: 1rem;\n",
              "  text-decoration: none;\n",
              "  /* unfitted */\n",
              "  color: var(--sklearn-color-unfitted-level-1);\n",
              "  border: var(--sklearn-color-unfitted-level-1) 1pt solid;\n",
              "}\n",
              "\n",
              "#sk-container-id-2 a.estimator_doc_link.fitted {\n",
              "  /* fitted */\n",
              "  border: var(--sklearn-color-fitted-level-1) 1pt solid;\n",
              "  color: var(--sklearn-color-fitted-level-1);\n",
              "}\n",
              "\n",
              "/* On hover */\n",
              "#sk-container-id-2 a.estimator_doc_link:hover {\n",
              "  /* unfitted */\n",
              "  background-color: var(--sklearn-color-unfitted-level-3);\n",
              "  color: var(--sklearn-color-background);\n",
              "  text-decoration: none;\n",
              "}\n",
              "\n",
              "#sk-container-id-2 a.estimator_doc_link.fitted:hover {\n",
              "  /* fitted */\n",
              "  background-color: var(--sklearn-color-fitted-level-3);\n",
              "}\n",
              "</style><div id=\"sk-container-id-2\" class=\"sk-top-container\"><div class=\"sk-text-repr-fallback\"><pre>SVC(class_weight=&#x27;balanced&#x27;)</pre><b>In a Jupyter environment, please rerun this cell to show the HTML representation or trust the notebook. <br />On GitHub, the HTML representation is unable to render, please try loading this page with nbviewer.org.</b></div><div class=\"sk-container\" hidden><div class=\"sk-item\"><div class=\"sk-estimator fitted sk-toggleable\"><input class=\"sk-toggleable__control sk-hidden--visually\" id=\"sk-estimator-id-2\" type=\"checkbox\" checked><label for=\"sk-estimator-id-2\" class=\"sk-toggleable__label fitted sk-toggleable__label-arrow fitted\">&nbsp;&nbsp;SVC<a class=\"sk-estimator-doc-link fitted\" rel=\"noreferrer\" target=\"_blank\" href=\"https://scikit-learn.org/1.5/modules/generated/sklearn.svm.SVC.html\">?<span>Documentation for SVC</span></a><span class=\"sk-estimator-doc-link fitted\">i<span>Fitted</span></span></label><div class=\"sk-toggleable__content fitted\"><pre>SVC(class_weight=&#x27;balanced&#x27;)</pre></div> </div></div></div></div>"
            ]
          },
          "metadata": {},
          "execution_count": 88
        }
      ]
    },
    {
      "cell_type": "code",
      "source": [
        "svc_wt_pred = svc.predict(X_test_scaled)\n",
        "macro_f1_svc_wt = f1_score(y_test, svc_wt_pred, average='macro')\n",
        "print(\"Macro-average F1-score for Logistic regression:\", macro_f1_svc_wt)\n",
        "print(classification_report(y_test, svc_wt_pred))"
      ],
      "metadata": {
        "colab": {
          "base_uri": "https://localhost:8080/"
        },
        "id": "9e1xHH5odktP",
        "outputId": "f4d476a7-a872-4e0d-d4ca-2ebbea9e846c"
      },
      "execution_count": null,
      "outputs": [
        {
          "output_type": "stream",
          "name": "stdout",
          "text": [
            "Macro-average F1-score for Logistic regression: 0.5799991512790483\n",
            "              precision    recall  f1-score   support\n",
            "\n",
            "           0       1.00      0.89      0.94     17698\n",
            "           1       0.12      0.93      0.22       302\n",
            "\n",
            "    accuracy                           0.89     18000\n",
            "   macro avg       0.56      0.91      0.58     18000\n",
            "weighted avg       0.98      0.89      0.93     18000\n",
            "\n"
          ]
        }
      ]
    },
    {
      "cell_type": "code",
      "source": [
        "import time\n",
        "from IPython.display import display, Javascript\n",
        "\n",
        "def notify_completion():\n",
        "    display(Javascript('alert(\"Execution complete!\")'))\n",
        "\n",
        "# Notify when done\n",
        "notify_completion()"
      ],
      "metadata": {
        "colab": {
          "base_uri": "https://localhost:8080/",
          "height": 17
        },
        "id": "gDr-3Ew-Qaau",
        "outputId": "7ba10315-ad91-410f-a2ce-00dae6df3edd"
      },
      "execution_count": null,
      "outputs": [
        {
          "output_type": "display_data",
          "data": {
            "text/plain": [
              "<IPython.core.display.Javascript object>"
            ],
            "application/javascript": [
              "alert(\"Execution complete!\")"
            ]
          },
          "metadata": {}
        }
      ]
    },
    {
      "cell_type": "markdown",
      "source": [
        "Put Sample weights"
      ],
      "metadata": {
        "id": "a-KW4HMleR-x"
      }
    },
    {
      "cell_type": "code",
      "source": [
        "sample_weights = compute_sample_weight(class_weight='balanced', y=y_train)\n",
        "\n",
        "# Fit Logistic Regression using sample weights\n",
        "logreg_model = LogisticRegression(solver='saga', max_iter=100)\n",
        "logreg_model.fit(X_train_scaled, y_train, sample_weight=sample_weights)\n",
        "\n",
        "# Predictions and F1 score\n",
        "logreg_pred = logreg_model.predict(X_test_scaled)\n",
        "macro_f1_logreg = f1_score(y_test, logreg_pred, average='macro')\n",
        "\n",
        "print(\"Macro-average F1-score for Logistic regression:\", macro_f1_logreg)"
      ],
      "metadata": {
        "colab": {
          "base_uri": "https://localhost:8080/"
        },
        "id": "CQvi2yriVOIk",
        "outputId": "7b1b2f2a-9cc4-4b66-c408-a29b96dcad6f"
      },
      "execution_count": null,
      "outputs": [
        {
          "output_type": "stream",
          "name": "stdout",
          "text": [
            "Macro-average F1-score for Logistic regression: 0.7496518902911533\n"
          ]
        },
        {
          "output_type": "stream",
          "name": "stderr",
          "text": [
            "/usr/local/lib/python3.10/dist-packages/sklearn/linear_model/_sag.py:349: ConvergenceWarning: The max_iter was reached which means the coef_ did not converge\n",
            "  warnings.warn(\n"
          ]
        }
      ]
    },
    {
      "cell_type": "code",
      "source": [],
      "metadata": {
        "id": "uaY5uX4cVOGp"
      },
      "execution_count": null,
      "outputs": []
    }
  ]
}