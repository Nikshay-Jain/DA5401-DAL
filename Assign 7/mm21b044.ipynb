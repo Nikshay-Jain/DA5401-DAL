{
  "nbformat": 4,
  "nbformat_minor": 0,
  "metadata": {
    "colab": {
      "provenance": []
    },
    "kernelspec": {
      "name": "python3",
      "display_name": "Python 3"
    },
    "language_info": {
      "name": "python"
    }
  },
  "cells": [
    {
      "cell_type": "markdown",
      "source": [
        "## Nikshay Jain | MM21B044\n",
        "### Assign 7"
      ],
      "metadata": {
        "id": "NWaJW6t3v61G"
      }
    },
    {
      "cell_type": "code",
      "execution_count": 2,
      "metadata": {
        "id": "-wycs_Gy70ab"
      },
      "outputs": [],
      "source": [
        "import numpy as np\n",
        "import pandas as pd\n",
        "import matplotlib.pyplot as plt\n",
        "\n",
        "from sklearn.svm import SVC\n",
        "from sklearn.impute import SimpleImputer\n",
        "from sklearn.tree import DecisionTreeClassifier\n",
        "from sklearn.linear_model import LogisticRegression\n",
        "from sklearn.metrics import f1_score, classification_report\n",
        "from sklearn.preprocessing import StandardScaler\n",
        "from sklearn.utils.class_weight import compute_sample_weight\n",
        "from sklearn.model_selection import GridSearchCV, train_test_split, ParameterGrid\n",
        "\n",
        "from imblearn.under_sampling import RandomUnderSampler\n",
        "from imblearn.over_sampling import RandomOverSampler, SMOTE"
      ]
    },
    {
      "cell_type": "code",
      "source": [
        "from google.colab import drive\n",
        "drive.mount('/content/drive')\n",
        "\n",
        "data = pd.read_csv('/content/drive/MyDrive/aps_failure_training_set.csv')"
      ],
      "metadata": {
        "colab": {
          "base_uri": "https://localhost:8080/"
        },
        "id": "BHnHgHzCxLhx",
        "outputId": "3cfb41c6-0de3-446d-9be7-b9e5378e0e35"
      },
      "execution_count": 3,
      "outputs": [
        {
          "output_type": "stream",
          "name": "stdout",
          "text": [
            "Mounted at /content/drive\n"
          ]
        }
      ]
    },
    {
      "cell_type": "code",
      "source": [
        "# data = pd.read_csv('aps_failure_training_set.csv')\n",
        "# data"
      ],
      "metadata": {
        "id": "2rDtP2ncv4Mi"
      },
      "execution_count": null,
      "outputs": []
    },
    {
      "cell_type": "code",
      "source": [
        "len(data)/sum(data['class']=='pos')  # tot vs +ves in dataset"
      ],
      "metadata": {
        "colab": {
          "base_uri": "https://localhost:8080/"
        },
        "id": "xj5yiobDwA7L",
        "outputId": "17123096-a6a9-4996-bdd1-312c5c74036b"
      },
      "execution_count": 7,
      "outputs": [
        {
          "output_type": "execute_result",
          "data": {
            "text/plain": [
              "60.0"
            ]
          },
          "metadata": {},
          "execution_count": 7
        }
      ]
    },
    {
      "cell_type": "code",
      "source": [
        "data[data.columns[0]].replace({'neg':'0','pos':'1'},inplace=True)\n",
        "data = data.replace('na',np.NaN)\n",
        "data[data.columns[0]] = data[data.columns[0]].astype(int)\n",
        "data[data.columns[1:]] = data[data.columns[1:]].astype(float)\n",
        "data.dropna(inplace=True)"
      ],
      "metadata": {
        "colab": {
          "base_uri": "https://localhost:8080/"
        },
        "id": "Bo8xhx3cMNK8",
        "outputId": "a9b55d67-e87e-4797-8201-7af58fa2038f"
      },
      "execution_count": 4,
      "outputs": [
        {
          "output_type": "stream",
          "name": "stderr",
          "text": [
            "<ipython-input-4-19ff5df2fc7f>:1: FutureWarning: A value is trying to be set on a copy of a DataFrame or Series through chained assignment using an inplace method.\n",
            "The behavior will change in pandas 3.0. This inplace method will never work because the intermediate object on which we are setting values always behaves as a copy.\n",
            "\n",
            "For example, when doing 'df[col].method(value, inplace=True)', try using 'df.method({col: value}, inplace=True)' or df[col] = df[col].method(value) instead, to perform the operation inplace on the original object.\n",
            "\n",
            "\n",
            "  data[data.columns[0]].replace({'neg':'0','pos':'1'},inplace=True)\n"
          ]
        }
      ]
    },
    {
      "cell_type": "code",
      "source": [
        "data"
      ],
      "metadata": {
        "colab": {
          "base_uri": "https://localhost:8080/",
          "height": 443
        },
        "id": "0rx--RfEMdX5",
        "outputId": "536a41b7-154d-4964-c775-744c82ac5e5e"
      },
      "execution_count": 5,
      "outputs": [
        {
          "output_type": "execute_result",
          "data": {
            "text/plain": [
              "       class    aa_000  ab_000  ac_000  ad_000  ae_000  af_000  ag_000  \\\n",
              "16         0   31300.0     0.0   784.0   740.0     0.0     0.0     0.0   \n",
              "179        0   97000.0     0.0   378.0   160.0     0.0     0.0     0.0   \n",
              "225        0  124656.0     2.0   278.0   170.0     0.0     0.0     0.0   \n",
              "394        1  281324.0     2.0  3762.0  2346.0     0.0     0.0  4808.0   \n",
              "413        1   43482.0     0.0  1534.0  1388.0     0.0     0.0     0.0   \n",
              "...      ...       ...     ...     ...     ...     ...     ...     ...   \n",
              "59432      0  118028.0     0.0   740.0   714.0   618.0   690.0     0.0   \n",
              "59562      0  229916.0     0.0   616.0     0.0     0.0     0.0     0.0   \n",
              "59843      0  224084.0     0.0   912.0   766.0     0.0     0.0     0.0   \n",
              "59870      0  197332.0     0.0   658.0   616.0   216.0   346.0     0.0   \n",
              "59950      0   76812.0     0.0   376.0   340.0     0.0     0.0     0.0   \n",
              "\n",
              "         ag_001    ag_002  ...     ee_002    ee_003    ee_004     ee_005  \\\n",
              "16          0.0       0.0  ...   798872.0  112724.0   51736.0     7054.0   \n",
              "179         0.0       0.0  ...  1078982.0  313334.0  511330.0   552328.0   \n",
              "225         0.0       0.0  ...  1205696.0  866148.0  697610.0   700400.0   \n",
              "394    215720.0  967572.0  ...   624606.0  269976.0  638838.0  1358354.0   \n",
              "413         0.0   40024.0  ...   497196.0  121166.0  202272.0   232636.0   \n",
              "...         ...       ...  ...        ...       ...       ...        ...   \n",
              "59432       0.0       0.0  ...   838952.0  631338.0  541036.0  1285274.0   \n",
              "59562       0.0       0.0  ...        0.0       0.0       0.0        0.0   \n",
              "59843       0.0       0.0  ...   413576.0  209524.0  469894.0  2233992.0   \n",
              "59870       0.0       0.0  ...    73940.0   49896.0   90454.0   575264.0   \n",
              "59950       0.0    5744.0  ...  1487016.0   60100.0   29754.0     4200.0   \n",
              "\n",
              "          ee_006    ee_007   ee_008  ee_009  ef_000  eg_000  \n",
              "16        6628.0   27600.0      2.0     2.0     0.0     0.0  \n",
              "179     871528.0  871104.0   1980.0    42.0     0.0     0.0  \n",
              "225    1900386.0  437532.0   3680.0     0.0     0.0     0.0  \n",
              "394     819918.0  262804.0   2824.0     0.0     0.0     0.0  \n",
              "413     645690.0      50.0      0.0     0.0     0.0     0.0  \n",
              "...          ...       ...      ...     ...     ...     ...  \n",
              "59432  1832658.0  165838.0   3022.0     0.0     0.0     0.0  \n",
              "59562        0.0       0.0      0.0     0.0     0.0     0.0  \n",
              "59843  5933084.0  364450.0  12422.0     0.0     0.0     0.0  \n",
              "59870   104600.0   10352.0     36.0     0.0     0.0     0.0  \n",
              "59950     4070.0    9236.0      0.0     0.0     0.0     0.0  \n",
              "\n",
              "[591 rows x 171 columns]"
            ],
            "text/html": [
              "\n",
              "  <div id=\"df-14c3de67-a133-49e6-aa66-df7ff5b67715\" class=\"colab-df-container\">\n",
              "    <div>\n",
              "<style scoped>\n",
              "    .dataframe tbody tr th:only-of-type {\n",
              "        vertical-align: middle;\n",
              "    }\n",
              "\n",
              "    .dataframe tbody tr th {\n",
              "        vertical-align: top;\n",
              "    }\n",
              "\n",
              "    .dataframe thead th {\n",
              "        text-align: right;\n",
              "    }\n",
              "</style>\n",
              "<table border=\"1\" class=\"dataframe\">\n",
              "  <thead>\n",
              "    <tr style=\"text-align: right;\">\n",
              "      <th></th>\n",
              "      <th>class</th>\n",
              "      <th>aa_000</th>\n",
              "      <th>ab_000</th>\n",
              "      <th>ac_000</th>\n",
              "      <th>ad_000</th>\n",
              "      <th>ae_000</th>\n",
              "      <th>af_000</th>\n",
              "      <th>ag_000</th>\n",
              "      <th>ag_001</th>\n",
              "      <th>ag_002</th>\n",
              "      <th>...</th>\n",
              "      <th>ee_002</th>\n",
              "      <th>ee_003</th>\n",
              "      <th>ee_004</th>\n",
              "      <th>ee_005</th>\n",
              "      <th>ee_006</th>\n",
              "      <th>ee_007</th>\n",
              "      <th>ee_008</th>\n",
              "      <th>ee_009</th>\n",
              "      <th>ef_000</th>\n",
              "      <th>eg_000</th>\n",
              "    </tr>\n",
              "  </thead>\n",
              "  <tbody>\n",
              "    <tr>\n",
              "      <th>16</th>\n",
              "      <td>0</td>\n",
              "      <td>31300.0</td>\n",
              "      <td>0.0</td>\n",
              "      <td>784.0</td>\n",
              "      <td>740.0</td>\n",
              "      <td>0.0</td>\n",
              "      <td>0.0</td>\n",
              "      <td>0.0</td>\n",
              "      <td>0.0</td>\n",
              "      <td>0.0</td>\n",
              "      <td>...</td>\n",
              "      <td>798872.0</td>\n",
              "      <td>112724.0</td>\n",
              "      <td>51736.0</td>\n",
              "      <td>7054.0</td>\n",
              "      <td>6628.0</td>\n",
              "      <td>27600.0</td>\n",
              "      <td>2.0</td>\n",
              "      <td>2.0</td>\n",
              "      <td>0.0</td>\n",
              "      <td>0.0</td>\n",
              "    </tr>\n",
              "    <tr>\n",
              "      <th>179</th>\n",
              "      <td>0</td>\n",
              "      <td>97000.0</td>\n",
              "      <td>0.0</td>\n",
              "      <td>378.0</td>\n",
              "      <td>160.0</td>\n",
              "      <td>0.0</td>\n",
              "      <td>0.0</td>\n",
              "      <td>0.0</td>\n",
              "      <td>0.0</td>\n",
              "      <td>0.0</td>\n",
              "      <td>...</td>\n",
              "      <td>1078982.0</td>\n",
              "      <td>313334.0</td>\n",
              "      <td>511330.0</td>\n",
              "      <td>552328.0</td>\n",
              "      <td>871528.0</td>\n",
              "      <td>871104.0</td>\n",
              "      <td>1980.0</td>\n",
              "      <td>42.0</td>\n",
              "      <td>0.0</td>\n",
              "      <td>0.0</td>\n",
              "    </tr>\n",
              "    <tr>\n",
              "      <th>225</th>\n",
              "      <td>0</td>\n",
              "      <td>124656.0</td>\n",
              "      <td>2.0</td>\n",
              "      <td>278.0</td>\n",
              "      <td>170.0</td>\n",
              "      <td>0.0</td>\n",
              "      <td>0.0</td>\n",
              "      <td>0.0</td>\n",
              "      <td>0.0</td>\n",
              "      <td>0.0</td>\n",
              "      <td>...</td>\n",
              "      <td>1205696.0</td>\n",
              "      <td>866148.0</td>\n",
              "      <td>697610.0</td>\n",
              "      <td>700400.0</td>\n",
              "      <td>1900386.0</td>\n",
              "      <td>437532.0</td>\n",
              "      <td>3680.0</td>\n",
              "      <td>0.0</td>\n",
              "      <td>0.0</td>\n",
              "      <td>0.0</td>\n",
              "    </tr>\n",
              "    <tr>\n",
              "      <th>394</th>\n",
              "      <td>1</td>\n",
              "      <td>281324.0</td>\n",
              "      <td>2.0</td>\n",
              "      <td>3762.0</td>\n",
              "      <td>2346.0</td>\n",
              "      <td>0.0</td>\n",
              "      <td>0.0</td>\n",
              "      <td>4808.0</td>\n",
              "      <td>215720.0</td>\n",
              "      <td>967572.0</td>\n",
              "      <td>...</td>\n",
              "      <td>624606.0</td>\n",
              "      <td>269976.0</td>\n",
              "      <td>638838.0</td>\n",
              "      <td>1358354.0</td>\n",
              "      <td>819918.0</td>\n",
              "      <td>262804.0</td>\n",
              "      <td>2824.0</td>\n",
              "      <td>0.0</td>\n",
              "      <td>0.0</td>\n",
              "      <td>0.0</td>\n",
              "    </tr>\n",
              "    <tr>\n",
              "      <th>413</th>\n",
              "      <td>1</td>\n",
              "      <td>43482.0</td>\n",
              "      <td>0.0</td>\n",
              "      <td>1534.0</td>\n",
              "      <td>1388.0</td>\n",
              "      <td>0.0</td>\n",
              "      <td>0.0</td>\n",
              "      <td>0.0</td>\n",
              "      <td>0.0</td>\n",
              "      <td>40024.0</td>\n",
              "      <td>...</td>\n",
              "      <td>497196.0</td>\n",
              "      <td>121166.0</td>\n",
              "      <td>202272.0</td>\n",
              "      <td>232636.0</td>\n",
              "      <td>645690.0</td>\n",
              "      <td>50.0</td>\n",
              "      <td>0.0</td>\n",
              "      <td>0.0</td>\n",
              "      <td>0.0</td>\n",
              "      <td>0.0</td>\n",
              "    </tr>\n",
              "    <tr>\n",
              "      <th>...</th>\n",
              "      <td>...</td>\n",
              "      <td>...</td>\n",
              "      <td>...</td>\n",
              "      <td>...</td>\n",
              "      <td>...</td>\n",
              "      <td>...</td>\n",
              "      <td>...</td>\n",
              "      <td>...</td>\n",
              "      <td>...</td>\n",
              "      <td>...</td>\n",
              "      <td>...</td>\n",
              "      <td>...</td>\n",
              "      <td>...</td>\n",
              "      <td>...</td>\n",
              "      <td>...</td>\n",
              "      <td>...</td>\n",
              "      <td>...</td>\n",
              "      <td>...</td>\n",
              "      <td>...</td>\n",
              "      <td>...</td>\n",
              "      <td>...</td>\n",
              "    </tr>\n",
              "    <tr>\n",
              "      <th>59432</th>\n",
              "      <td>0</td>\n",
              "      <td>118028.0</td>\n",
              "      <td>0.0</td>\n",
              "      <td>740.0</td>\n",
              "      <td>714.0</td>\n",
              "      <td>618.0</td>\n",
              "      <td>690.0</td>\n",
              "      <td>0.0</td>\n",
              "      <td>0.0</td>\n",
              "      <td>0.0</td>\n",
              "      <td>...</td>\n",
              "      <td>838952.0</td>\n",
              "      <td>631338.0</td>\n",
              "      <td>541036.0</td>\n",
              "      <td>1285274.0</td>\n",
              "      <td>1832658.0</td>\n",
              "      <td>165838.0</td>\n",
              "      <td>3022.0</td>\n",
              "      <td>0.0</td>\n",
              "      <td>0.0</td>\n",
              "      <td>0.0</td>\n",
              "    </tr>\n",
              "    <tr>\n",
              "      <th>59562</th>\n",
              "      <td>0</td>\n",
              "      <td>229916.0</td>\n",
              "      <td>0.0</td>\n",
              "      <td>616.0</td>\n",
              "      <td>0.0</td>\n",
              "      <td>0.0</td>\n",
              "      <td>0.0</td>\n",
              "      <td>0.0</td>\n",
              "      <td>0.0</td>\n",
              "      <td>0.0</td>\n",
              "      <td>...</td>\n",
              "      <td>0.0</td>\n",
              "      <td>0.0</td>\n",
              "      <td>0.0</td>\n",
              "      <td>0.0</td>\n",
              "      <td>0.0</td>\n",
              "      <td>0.0</td>\n",
              "      <td>0.0</td>\n",
              "      <td>0.0</td>\n",
              "      <td>0.0</td>\n",
              "      <td>0.0</td>\n",
              "    </tr>\n",
              "    <tr>\n",
              "      <th>59843</th>\n",
              "      <td>0</td>\n",
              "      <td>224084.0</td>\n",
              "      <td>0.0</td>\n",
              "      <td>912.0</td>\n",
              "      <td>766.0</td>\n",
              "      <td>0.0</td>\n",
              "      <td>0.0</td>\n",
              "      <td>0.0</td>\n",
              "      <td>0.0</td>\n",
              "      <td>0.0</td>\n",
              "      <td>...</td>\n",
              "      <td>413576.0</td>\n",
              "      <td>209524.0</td>\n",
              "      <td>469894.0</td>\n",
              "      <td>2233992.0</td>\n",
              "      <td>5933084.0</td>\n",
              "      <td>364450.0</td>\n",
              "      <td>12422.0</td>\n",
              "      <td>0.0</td>\n",
              "      <td>0.0</td>\n",
              "      <td>0.0</td>\n",
              "    </tr>\n",
              "    <tr>\n",
              "      <th>59870</th>\n",
              "      <td>0</td>\n",
              "      <td>197332.0</td>\n",
              "      <td>0.0</td>\n",
              "      <td>658.0</td>\n",
              "      <td>616.0</td>\n",
              "      <td>216.0</td>\n",
              "      <td>346.0</td>\n",
              "      <td>0.0</td>\n",
              "      <td>0.0</td>\n",
              "      <td>0.0</td>\n",
              "      <td>...</td>\n",
              "      <td>73940.0</td>\n",
              "      <td>49896.0</td>\n",
              "      <td>90454.0</td>\n",
              "      <td>575264.0</td>\n",
              "      <td>104600.0</td>\n",
              "      <td>10352.0</td>\n",
              "      <td>36.0</td>\n",
              "      <td>0.0</td>\n",
              "      <td>0.0</td>\n",
              "      <td>0.0</td>\n",
              "    </tr>\n",
              "    <tr>\n",
              "      <th>59950</th>\n",
              "      <td>0</td>\n",
              "      <td>76812.0</td>\n",
              "      <td>0.0</td>\n",
              "      <td>376.0</td>\n",
              "      <td>340.0</td>\n",
              "      <td>0.0</td>\n",
              "      <td>0.0</td>\n",
              "      <td>0.0</td>\n",
              "      <td>0.0</td>\n",
              "      <td>5744.0</td>\n",
              "      <td>...</td>\n",
              "      <td>1487016.0</td>\n",
              "      <td>60100.0</td>\n",
              "      <td>29754.0</td>\n",
              "      <td>4200.0</td>\n",
              "      <td>4070.0</td>\n",
              "      <td>9236.0</td>\n",
              "      <td>0.0</td>\n",
              "      <td>0.0</td>\n",
              "      <td>0.0</td>\n",
              "      <td>0.0</td>\n",
              "    </tr>\n",
              "  </tbody>\n",
              "</table>\n",
              "<p>591 rows × 171 columns</p>\n",
              "</div>\n",
              "    <div class=\"colab-df-buttons\">\n",
              "\n",
              "  <div class=\"colab-df-container\">\n",
              "    <button class=\"colab-df-convert\" onclick=\"convertToInteractive('df-14c3de67-a133-49e6-aa66-df7ff5b67715')\"\n",
              "            title=\"Convert this dataframe to an interactive table.\"\n",
              "            style=\"display:none;\">\n",
              "\n",
              "  <svg xmlns=\"http://www.w3.org/2000/svg\" height=\"24px\" viewBox=\"0 -960 960 960\">\n",
              "    <path d=\"M120-120v-720h720v720H120Zm60-500h600v-160H180v160Zm220 220h160v-160H400v160Zm0 220h160v-160H400v160ZM180-400h160v-160H180v160Zm440 0h160v-160H620v160ZM180-180h160v-160H180v160Zm440 0h160v-160H620v160Z\"/>\n",
              "  </svg>\n",
              "    </button>\n",
              "\n",
              "  <style>\n",
              "    .colab-df-container {\n",
              "      display:flex;\n",
              "      gap: 12px;\n",
              "    }\n",
              "\n",
              "    .colab-df-convert {\n",
              "      background-color: #E8F0FE;\n",
              "      border: none;\n",
              "      border-radius: 50%;\n",
              "      cursor: pointer;\n",
              "      display: none;\n",
              "      fill: #1967D2;\n",
              "      height: 32px;\n",
              "      padding: 0 0 0 0;\n",
              "      width: 32px;\n",
              "    }\n",
              "\n",
              "    .colab-df-convert:hover {\n",
              "      background-color: #E2EBFA;\n",
              "      box-shadow: 0px 1px 2px rgba(60, 64, 67, 0.3), 0px 1px 3px 1px rgba(60, 64, 67, 0.15);\n",
              "      fill: #174EA6;\n",
              "    }\n",
              "\n",
              "    .colab-df-buttons div {\n",
              "      margin-bottom: 4px;\n",
              "    }\n",
              "\n",
              "    [theme=dark] .colab-df-convert {\n",
              "      background-color: #3B4455;\n",
              "      fill: #D2E3FC;\n",
              "    }\n",
              "\n",
              "    [theme=dark] .colab-df-convert:hover {\n",
              "      background-color: #434B5C;\n",
              "      box-shadow: 0px 1px 3px 1px rgba(0, 0, 0, 0.15);\n",
              "      filter: drop-shadow(0px 1px 2px rgba(0, 0, 0, 0.3));\n",
              "      fill: #FFFFFF;\n",
              "    }\n",
              "  </style>\n",
              "\n",
              "    <script>\n",
              "      const buttonEl =\n",
              "        document.querySelector('#df-14c3de67-a133-49e6-aa66-df7ff5b67715 button.colab-df-convert');\n",
              "      buttonEl.style.display =\n",
              "        google.colab.kernel.accessAllowed ? 'block' : 'none';\n",
              "\n",
              "      async function convertToInteractive(key) {\n",
              "        const element = document.querySelector('#df-14c3de67-a133-49e6-aa66-df7ff5b67715');\n",
              "        const dataTable =\n",
              "          await google.colab.kernel.invokeFunction('convertToInteractive',\n",
              "                                                    [key], {});\n",
              "        if (!dataTable) return;\n",
              "\n",
              "        const docLinkHtml = 'Like what you see? Visit the ' +\n",
              "          '<a target=\"_blank\" href=https://colab.research.google.com/notebooks/data_table.ipynb>data table notebook</a>'\n",
              "          + ' to learn more about interactive tables.';\n",
              "        element.innerHTML = '';\n",
              "        dataTable['output_type'] = 'display_data';\n",
              "        await google.colab.output.renderOutput(dataTable, element);\n",
              "        const docLink = document.createElement('div');\n",
              "        docLink.innerHTML = docLinkHtml;\n",
              "        element.appendChild(docLink);\n",
              "      }\n",
              "    </script>\n",
              "  </div>\n",
              "\n",
              "\n",
              "<div id=\"df-994f1800-8cfa-439b-88ad-ab4b21180b2f\">\n",
              "  <button class=\"colab-df-quickchart\" onclick=\"quickchart('df-994f1800-8cfa-439b-88ad-ab4b21180b2f')\"\n",
              "            title=\"Suggest charts\"\n",
              "            style=\"display:none;\">\n",
              "\n",
              "<svg xmlns=\"http://www.w3.org/2000/svg\" height=\"24px\"viewBox=\"0 0 24 24\"\n",
              "     width=\"24px\">\n",
              "    <g>\n",
              "        <path d=\"M19 3H5c-1.1 0-2 .9-2 2v14c0 1.1.9 2 2 2h14c1.1 0 2-.9 2-2V5c0-1.1-.9-2-2-2zM9 17H7v-7h2v7zm4 0h-2V7h2v10zm4 0h-2v-4h2v4z\"/>\n",
              "    </g>\n",
              "</svg>\n",
              "  </button>\n",
              "\n",
              "<style>\n",
              "  .colab-df-quickchart {\n",
              "      --bg-color: #E8F0FE;\n",
              "      --fill-color: #1967D2;\n",
              "      --hover-bg-color: #E2EBFA;\n",
              "      --hover-fill-color: #174EA6;\n",
              "      --disabled-fill-color: #AAA;\n",
              "      --disabled-bg-color: #DDD;\n",
              "  }\n",
              "\n",
              "  [theme=dark] .colab-df-quickchart {\n",
              "      --bg-color: #3B4455;\n",
              "      --fill-color: #D2E3FC;\n",
              "      --hover-bg-color: #434B5C;\n",
              "      --hover-fill-color: #FFFFFF;\n",
              "      --disabled-bg-color: #3B4455;\n",
              "      --disabled-fill-color: #666;\n",
              "  }\n",
              "\n",
              "  .colab-df-quickchart {\n",
              "    background-color: var(--bg-color);\n",
              "    border: none;\n",
              "    border-radius: 50%;\n",
              "    cursor: pointer;\n",
              "    display: none;\n",
              "    fill: var(--fill-color);\n",
              "    height: 32px;\n",
              "    padding: 0;\n",
              "    width: 32px;\n",
              "  }\n",
              "\n",
              "  .colab-df-quickchart:hover {\n",
              "    background-color: var(--hover-bg-color);\n",
              "    box-shadow: 0 1px 2px rgba(60, 64, 67, 0.3), 0 1px 3px 1px rgba(60, 64, 67, 0.15);\n",
              "    fill: var(--button-hover-fill-color);\n",
              "  }\n",
              "\n",
              "  .colab-df-quickchart-complete:disabled,\n",
              "  .colab-df-quickchart-complete:disabled:hover {\n",
              "    background-color: var(--disabled-bg-color);\n",
              "    fill: var(--disabled-fill-color);\n",
              "    box-shadow: none;\n",
              "  }\n",
              "\n",
              "  .colab-df-spinner {\n",
              "    border: 2px solid var(--fill-color);\n",
              "    border-color: transparent;\n",
              "    border-bottom-color: var(--fill-color);\n",
              "    animation:\n",
              "      spin 1s steps(1) infinite;\n",
              "  }\n",
              "\n",
              "  @keyframes spin {\n",
              "    0% {\n",
              "      border-color: transparent;\n",
              "      border-bottom-color: var(--fill-color);\n",
              "      border-left-color: var(--fill-color);\n",
              "    }\n",
              "    20% {\n",
              "      border-color: transparent;\n",
              "      border-left-color: var(--fill-color);\n",
              "      border-top-color: var(--fill-color);\n",
              "    }\n",
              "    30% {\n",
              "      border-color: transparent;\n",
              "      border-left-color: var(--fill-color);\n",
              "      border-top-color: var(--fill-color);\n",
              "      border-right-color: var(--fill-color);\n",
              "    }\n",
              "    40% {\n",
              "      border-color: transparent;\n",
              "      border-right-color: var(--fill-color);\n",
              "      border-top-color: var(--fill-color);\n",
              "    }\n",
              "    60% {\n",
              "      border-color: transparent;\n",
              "      border-right-color: var(--fill-color);\n",
              "    }\n",
              "    80% {\n",
              "      border-color: transparent;\n",
              "      border-right-color: var(--fill-color);\n",
              "      border-bottom-color: var(--fill-color);\n",
              "    }\n",
              "    90% {\n",
              "      border-color: transparent;\n",
              "      border-bottom-color: var(--fill-color);\n",
              "    }\n",
              "  }\n",
              "</style>\n",
              "\n",
              "  <script>\n",
              "    async function quickchart(key) {\n",
              "      const quickchartButtonEl =\n",
              "        document.querySelector('#' + key + ' button');\n",
              "      quickchartButtonEl.disabled = true;  // To prevent multiple clicks.\n",
              "      quickchartButtonEl.classList.add('colab-df-spinner');\n",
              "      try {\n",
              "        const charts = await google.colab.kernel.invokeFunction(\n",
              "            'suggestCharts', [key], {});\n",
              "      } catch (error) {\n",
              "        console.error('Error during call to suggestCharts:', error);\n",
              "      }\n",
              "      quickchartButtonEl.classList.remove('colab-df-spinner');\n",
              "      quickchartButtonEl.classList.add('colab-df-quickchart-complete');\n",
              "    }\n",
              "    (() => {\n",
              "      let quickchartButtonEl =\n",
              "        document.querySelector('#df-994f1800-8cfa-439b-88ad-ab4b21180b2f button');\n",
              "      quickchartButtonEl.style.display =\n",
              "        google.colab.kernel.accessAllowed ? 'block' : 'none';\n",
              "    })();\n",
              "  </script>\n",
              "</div>\n",
              "\n",
              "  <div id=\"id_ba457330-4857-4df3-9f03-cd42d92d2779\">\n",
              "    <style>\n",
              "      .colab-df-generate {\n",
              "        background-color: #E8F0FE;\n",
              "        border: none;\n",
              "        border-radius: 50%;\n",
              "        cursor: pointer;\n",
              "        display: none;\n",
              "        fill: #1967D2;\n",
              "        height: 32px;\n",
              "        padding: 0 0 0 0;\n",
              "        width: 32px;\n",
              "      }\n",
              "\n",
              "      .colab-df-generate:hover {\n",
              "        background-color: #E2EBFA;\n",
              "        box-shadow: 0px 1px 2px rgba(60, 64, 67, 0.3), 0px 1px 3px 1px rgba(60, 64, 67, 0.15);\n",
              "        fill: #174EA6;\n",
              "      }\n",
              "\n",
              "      [theme=dark] .colab-df-generate {\n",
              "        background-color: #3B4455;\n",
              "        fill: #D2E3FC;\n",
              "      }\n",
              "\n",
              "      [theme=dark] .colab-df-generate:hover {\n",
              "        background-color: #434B5C;\n",
              "        box-shadow: 0px 1px 3px 1px rgba(0, 0, 0, 0.15);\n",
              "        filter: drop-shadow(0px 1px 2px rgba(0, 0, 0, 0.3));\n",
              "        fill: #FFFFFF;\n",
              "      }\n",
              "    </style>\n",
              "    <button class=\"colab-df-generate\" onclick=\"generateWithVariable('data')\"\n",
              "            title=\"Generate code using this dataframe.\"\n",
              "            style=\"display:none;\">\n",
              "\n",
              "  <svg xmlns=\"http://www.w3.org/2000/svg\" height=\"24px\"viewBox=\"0 0 24 24\"\n",
              "       width=\"24px\">\n",
              "    <path d=\"M7,19H8.4L18.45,9,17,7.55,7,17.6ZM5,21V16.75L18.45,3.32a2,2,0,0,1,2.83,0l1.4,1.43a1.91,1.91,0,0,1,.58,1.4,1.91,1.91,0,0,1-.58,1.4L9.25,21ZM18.45,9,17,7.55Zm-12,3A5.31,5.31,0,0,0,4.9,8.1,5.31,5.31,0,0,0,1,6.5,5.31,5.31,0,0,0,4.9,4.9,5.31,5.31,0,0,0,6.5,1,5.31,5.31,0,0,0,8.1,4.9,5.31,5.31,0,0,0,12,6.5,5.46,5.46,0,0,0,6.5,12Z\"/>\n",
              "  </svg>\n",
              "    </button>\n",
              "    <script>\n",
              "      (() => {\n",
              "      const buttonEl =\n",
              "        document.querySelector('#id_ba457330-4857-4df3-9f03-cd42d92d2779 button.colab-df-generate');\n",
              "      buttonEl.style.display =\n",
              "        google.colab.kernel.accessAllowed ? 'block' : 'none';\n",
              "\n",
              "      buttonEl.onclick = () => {\n",
              "        google.colab.notebook.generateWithVariable('data');\n",
              "      }\n",
              "      })();\n",
              "    </script>\n",
              "  </div>\n",
              "\n",
              "    </div>\n",
              "  </div>\n"
            ],
            "application/vnd.google.colaboratory.intrinsic+json": {
              "type": "dataframe",
              "variable_name": "data"
            }
          },
          "metadata": {},
          "execution_count": 5
        }
      ]
    },
    {
      "cell_type": "markdown",
      "source": [
        "## Task 1"
      ],
      "metadata": {
        "id": "pMAGyc7bwLAV"
      }
    },
    {
      "cell_type": "code",
      "source": [
        "y = data['class']\n",
        "X = data.drop('class',axis=1)"
      ],
      "metadata": {
        "id": "HCXtdVgZwJ_5"
      },
      "execution_count": 6,
      "outputs": []
    },
    {
      "cell_type": "code",
      "source": [
        "y = data[data.columns[0]]\n",
        "X = data[data.columns[1:]]\n",
        "X_train, X_test, y_train, y_test = train_test_split(X, y, test_size=0.2, random_state=42)"
      ],
      "metadata": {
        "id": "Ye3FAorw3rIC"
      },
      "execution_count": 8,
      "outputs": []
    },
    {
      "cell_type": "markdown",
      "source": [
        "Train baseline models\n",
        "\n",
        "SVC - 0.91 f1 score"
      ],
      "metadata": {
        "id": "oNoWPhoO36UG"
      }
    },
    {
      "cell_type": "code",
      "source": [
        "svc_param = {\n",
        "    'kernel': ['linear', 'rbf', 'sigmoid'],\n",
        "    'C': [1e2, 1e3, 1e4, 1e5],\n",
        "    'gamma': ['scale', 'auto']\n",
        "}\n",
        "\n",
        "svc_raw = GridSearchCV(SVC(), param_grid=svc_param, cv=5, n_jobs=-1, scoring='f1_macro')\n",
        "svc_raw.fit(X_train, y_train)\n",
        "svc_best = svc_raw.best_estimator_\n",
        "\n",
        "print(\"Best Params for SVC:\", svc_raw.best_params_)\n",
        "\n",
        "svc_pred = svc_best.predict(X_test)\n",
        "macro_f1_svc = f1_score(y_test, svc_pred, average='macro')\n",
        "print(\"Macro-average F1-score for SVC:\", macro_f1_svc)\n",
        "print(classification_report(y_test, svc_pred))"
      ],
      "metadata": {
        "colab": {
          "base_uri": "https://localhost:8080/"
        },
        "id": "u3WUI9iu5xA9",
        "outputId": "3f59a22b-aaf8-4488-a255-8c9f53f94c9a"
      },
      "execution_count": null,
      "outputs": [
        {
          "output_type": "stream",
          "name": "stdout",
          "text": [
            "Best Params for SVC: {'C': 10000.0, 'gamma': 'scale', 'kernel': 'rbf'}\n",
            "Macro-average F1-score for SVC: 0.9073208722741433\n",
            "              precision    recall  f1-score   support\n",
            "\n",
            "           0       0.97      0.99      0.98       106\n",
            "           1       0.91      0.77      0.83        13\n",
            "\n",
            "    accuracy                           0.97       119\n",
            "   macro avg       0.94      0.88      0.91       119\n",
            "weighted avg       0.97      0.97      0.97       119\n",
            "\n"
          ]
        }
      ]
    },
    {
      "cell_type": "markdown",
      "source": [
        "Logistic Regression - 0.89 f1 score"
      ],
      "metadata": {
        "id": "v9DSCn2n0HLW"
      }
    },
    {
      "cell_type": "code",
      "source": [
        "logreg_params = {\n",
        "    'penalty': ['l2', 'l1'],\n",
        "    'C': [1e-4, 1e-3, 1e-2, 1],\n",
        "    'solver': ['liblinear', 'saga']\n",
        "}\n",
        "\n",
        "logreg_raw = GridSearchCV(LogisticRegression(), param_grid=logreg_params, cv=5, n_jobs=-1, scoring='f1_macro')\n",
        "logreg_raw.fit(X_train, y_train)\n",
        "logreg_best = logreg_raw.best_estimator_\n",
        "\n",
        "print(\"Best Params for Logistic Regression:\", logreg_raw.best_params_)\n",
        "\n",
        "logreg_pred = logreg_best.predict(X_test)\n",
        "macro_f1_logreg = f1_score(y_test, logreg_pred, average='macro')\n",
        "print(\"Macro-average F1-score for Logistic regression:\", macro_f1_logreg)\n",
        "print(classification_report(y_test, logreg_pred))"
      ],
      "metadata": {
        "id": "1tudjbd9wR9W",
        "colab": {
          "base_uri": "https://localhost:8080/"
        },
        "outputId": "f8dd548b-d16a-40ab-e589-ae54aa8ab222"
      },
      "execution_count": null,
      "outputs": [
        {
          "output_type": "stream",
          "name": "stdout",
          "text": [
            "Best Params for Logistic Regression: {'C': 0.001, 'penalty': 'l1', 'solver': 'liblinear'}\n",
            "Macro-average F1-score for Logistic regression: 0.8882629107981221\n",
            "              precision    recall  f1-score   support\n",
            "\n",
            "           0       0.97      0.98      0.98       106\n",
            "           1       0.83      0.77      0.80        13\n",
            "\n",
            "    accuracy                           0.96       119\n",
            "   macro avg       0.90      0.88      0.89       119\n",
            "weighted avg       0.96      0.96      0.96       119\n",
            "\n"
          ]
        }
      ]
    },
    {
      "cell_type": "markdown",
      "source": [
        "Decision Tree - 0.86 f1 score"
      ],
      "metadata": {
        "id": "tn-uoOTJ0KSg"
      }
    },
    {
      "cell_type": "code",
      "source": [
        "dt_params = {\n",
        "    'max_depth': [2, 3, 5, 10, 15],\n",
        "    'min_samples_leaf': [1, 2, 4, 6, 8],\n",
        "    'min_samples_split': [2, 3, 4, 6]\n",
        "}\n",
        "\n",
        "dt_raw = GridSearchCV(DecisionTreeClassifier(), param_grid=dt_params, cv=5, n_jobs=-1, scoring='f1_macro')\n",
        "dt_raw.fit(X_train, y_train)\n",
        "dt_best = dt_raw.best_estimator_\n",
        "\n",
        "print(\"Best Params for Decision Tree:\", dt_raw.best_params_)\n",
        "\n",
        "dt_pred = dt_best.predict(X_test)\n",
        "macro_f1_dt = f1_score(y_test, dt_pred, average='macro')\n",
        "print(\"Macro-average F1-score for decision tree :\", macro_f1_dt)\n",
        "print(classification_report(y_test, dt_pred))"
      ],
      "metadata": {
        "colab": {
          "base_uri": "https://localhost:8080/"
        },
        "id": "hEOjj0gHwR1E",
        "outputId": "2aadb708-ad06-4ef1-a77f-cdea1f766e21"
      },
      "execution_count": null,
      "outputs": [
        {
          "output_type": "stream",
          "name": "stdout",
          "text": [
            "Best Params for Decision Tree: {'max_depth': 5, 'min_samples_leaf': 1, 'min_samples_split': 4}\n",
            "Macro-average F1-score for decision tree : 0.860981308411215\n",
            "              precision    recall  f1-score   support\n",
            "\n",
            "           0       0.96      0.98      0.97       106\n",
            "           1       0.82      0.69      0.75        13\n",
            "\n",
            "    accuracy                           0.95       119\n",
            "   macro avg       0.89      0.84      0.86       119\n",
            "weighted avg       0.95      0.95      0.95       119\n",
            "\n"
          ]
        }
      ]
    },
    {
      "cell_type": "markdown",
      "source": [
        "## Task 2"
      ],
      "metadata": {
        "id": "Fk9yIqF--sdm"
      }
    },
    {
      "cell_type": "markdown",
      "source": [
        "Task 2a - oversampling"
      ],
      "metadata": {
        "id": "Q69hfPOOzaL6"
      }
    },
    {
      "cell_type": "code",
      "source": [
        "over_sampler = RandomOverSampler(random_state=42)\n",
        "X_ros, y_ros = over_sampler.fit_resample(X_train, y_train)"
      ],
      "metadata": {
        "id": "UicwhO1LzZxO"
      },
      "execution_count": 14,
      "outputs": []
    },
    {
      "cell_type": "code",
      "source": [
        "svc_param_new = {\n",
        "    'kernel': ['linear', 'rbf', 'sigmoid'],\n",
        "    'C': [1e-12, 1e-10, 1e-9],\n",
        "    'gamma': ['scale', 'auto']\n",
        "}\n",
        "\n",
        "svc_new1 = GridSearchCV(SVC(tol=0.03), param_grid=svc_param_new, cv=5, n_jobs=-1, scoring='f1_macro')\n",
        "svc_new1.fit(X_ros, y_ros)\n",
        "svc_new1_best = svc_new1.best_estimator_\n",
        "\n",
        "print(\"Best Params for SVC:\", svc_new1.best_params_)\n",
        "\n",
        "svc_pred_new1 = svc_new1_best.predict(X_test)\n",
        "macro_f1_svc_new1 = f1_score(y_test, svc_pred_new1, average='macro')\n",
        "print(\"Macro-average F1-score for SVC:\", macro_f1_svc_new1)\n",
        "print(classification_report(y_test, svc_pred_new1))"
      ],
      "metadata": {
        "id": "sRdY6e9aSvPZ",
        "colab": {
          "base_uri": "https://localhost:8080/"
        },
        "outputId": "e8e7fabd-e577-475c-f0a6-977e7ceff791"
      },
      "execution_count": 40,
      "outputs": [
        {
          "output_type": "stream",
          "name": "stdout",
          "text": [
            "Best Params for SVC: {'C': 1e-10, 'gamma': 'scale', 'kernel': 'linear'}\n",
            "Macro-average F1-score for SVC: 0.9018313809602376\n",
            "              precision    recall  f1-score   support\n",
            "\n",
            "           0       0.99      0.96      0.98       106\n",
            "           1       0.75      0.92      0.83        13\n",
            "\n",
            "    accuracy                           0.96       119\n",
            "   macro avg       0.87      0.94      0.90       119\n",
            "weighted avg       0.96      0.96      0.96       119\n",
            "\n"
          ]
        }
      ]
    },
    {
      "cell_type": "code",
      "source": [
        "logreg_params_new = {\n",
        "    'penalty': ['l2', 'l1'],\n",
        "    'C': [1e-11, 1e-10, 1e-9, 1e-8]\n",
        "}\n",
        "\n",
        "logreg_new1 = GridSearchCV(LogisticRegression(solver='saga', max_iter=1000, tol=1e-3), param_grid=logreg_params_new, cv=5, n_jobs=-1, scoring='f1_macro')\n",
        "logreg_new1.fit(X_ros, y_ros)\n",
        "logreg_new1_best = logreg_new1.best_estimator_\n",
        "\n",
        "print(\"Best Params for Logistic Regression:\", logreg_new1.best_params_)\n",
        "\n",
        "logreg_pred_new1 = logreg_new1_best.predict(X_test)\n",
        "macro_f1_logreg_new1 = f1_score(y_test, logreg_pred_new1, average='macro')\n",
        "print(\"Macro-average F1-score for Logistic regression:\", macro_f1_logreg_new1)\n",
        "print(classification_report(y_test, logreg_pred_new1))"
      ],
      "metadata": {
        "id": "spkViqqfzhiL",
        "colab": {
          "base_uri": "https://localhost:8080/"
        },
        "outputId": "b4ef8100-77e2-4702-b78a-d66eaa1a3536"
      },
      "execution_count": 62,
      "outputs": [
        {
          "output_type": "stream",
          "name": "stdout",
          "text": [
            "Best Params for Logistic Regression: {'C': 1e-10, 'penalty': 'l2'}\n",
            "Macro-average F1-score for Logistic regression: 0.7700038654812524\n",
            "              precision    recall  f1-score   support\n",
            "\n",
            "           0       0.99      0.87      0.92       106\n",
            "           1       0.46      0.92      0.62        13\n",
            "\n",
            "    accuracy                           0.87       119\n",
            "   macro avg       0.73      0.90      0.77       119\n",
            "weighted avg       0.93      0.87      0.89       119\n",
            "\n"
          ]
        }
      ]
    },
    {
      "cell_type": "code",
      "source": [
        "dt_params_new = {\n",
        "    'max_depth': [5, 10, 15, 20],\n",
        "    'min_samples_leaf': [1, 3, 5],\n",
        "    'min_samples_split': [2, 3, 4, 5, 6]\n",
        "}\n",
        "\n",
        "dt_new1 = GridSearchCV(DecisionTreeClassifier(), param_grid=dt_params_new, cv=5, n_jobs=-1, scoring='f1_macro')\n",
        "dt_new1.fit(X_ros, y_ros)\n",
        "dt_new1_best = dt_new1.best_estimator_\n",
        "\n",
        "print(\"Best Params for Decision Tree:\", dt_new1.best_params_)\n",
        "\n",
        "dt_pred_new1 = dt_new1_best.predict(X_test)\n",
        "macro_f1_dt_new1 = f1_score(y_test, dt_pred_new1, average='macro')\n",
        "print(\"Macro-average F1-score for decision tree :\", macro_f1_dt_new1)\n",
        "print(classification_report(y_test, dt_pred_new1))"
      ],
      "metadata": {
        "colab": {
          "base_uri": "https://localhost:8080/"
        },
        "id": "i4KaPwTC8fqn",
        "outputId": "44c50c68-cbcc-4b1c-af23-3adfe67038a8"
      },
      "execution_count": 63,
      "outputs": [
        {
          "output_type": "stream",
          "name": "stdout",
          "text": [
            "Best Params for Decision Tree: {'max_depth': 15, 'min_samples_leaf': 3, 'min_samples_split': 2}\n",
            "Macro-average F1-score for decision tree : 0.7988732394366197\n",
            "              precision    recall  f1-score   support\n",
            "\n",
            "           0       0.95      0.96      0.96       106\n",
            "           1       0.67      0.62      0.64        13\n",
            "\n",
            "    accuracy                           0.92       119\n",
            "   macro avg       0.81      0.79      0.80       119\n",
            "weighted avg       0.92      0.92      0.92       119\n",
            "\n"
          ]
        }
      ]
    },
    {
      "cell_type": "markdown",
      "source": [
        "Task 2b - class weights"
      ],
      "metadata": {
        "id": "oxXdQwDn4igB"
      }
    },
    {
      "cell_type": "code",
      "source": [
        "wt = np.where(y_train == 0,(1/np.sum(y_train == 0)),(1/np.sum(y_train == 1)))\n",
        "wt = wt / np.sum(wt)\n",
        "\n",
        "samples = np.random.choice(np.arange(0, len(X_train)), p=wt, size=len(X_train))\n",
        "\n",
        "X_class_weight = X_train.iloc[samples]\n",
        "y_class_weight = y_train.iloc[samples]"
      ],
      "metadata": {
        "id": "eAA8w4tk4xSj"
      },
      "execution_count": 66,
      "outputs": []
    },
    {
      "cell_type": "code",
      "source": [
        "svc_param_new2 = {\n",
        "    'kernel': ['linear', 'rbf', 'sigmoid'],\n",
        "    'C': [1e-3, 1e-2, 1, 10],\n",
        "    'gamma': ['scale', 'auto']\n",
        "}\n",
        "\n",
        "svc_new2 = GridSearchCV(SVC(max_iter=1000, class_weight='balanced'), param_grid=svc_param_new2, cv=5, n_jobs=-1, scoring='f1_macro')\n",
        "svc_new2.fit(X_class_weight, y_class_weight)\n",
        "svc_new2_best = svc_new2.best_estimator_\n",
        "\n",
        "print(\"Best Params for SVC:\", svc_new2.best_params_)\n",
        "\n",
        "svc_pred_new2 = svc_new2_best.predict(X_test)\n",
        "macro_f1_svc_new2 = f1_score(y_test, svc_pred_new2, average='macro')\n",
        "print(\"Macro-average F1-score for SVC:\", macro_f1_svc_new2)\n",
        "print(classification_report(y_test, svc_pred_new2, zero_division=1))"
      ],
      "metadata": {
        "id": "9NRcLw864xPN",
        "colab": {
          "base_uri": "https://localhost:8080/"
        },
        "outputId": "ebd2d79f-2c6e-4639-ee8d-6a3efef01f76"
      },
      "execution_count": 85,
      "outputs": [
        {
          "output_type": "stream",
          "name": "stdout",
          "text": [
            "Best Params for SVC: {'C': 1, 'gamma': 'auto', 'kernel': 'rbf'}\n",
            "Macro-average F1-score for SVC: 0.4711111111111111\n",
            "              precision    recall  f1-score   support\n",
            "\n",
            "           0       0.89      1.00      0.94       106\n",
            "           1       1.00      0.00      0.00        13\n",
            "\n",
            "    accuracy                           0.89       119\n",
            "   macro avg       0.95      0.50      0.47       119\n",
            "weighted avg       0.90      0.89      0.84       119\n",
            "\n"
          ]
        }
      ]
    },
    {
      "cell_type": "code",
      "source": [
        "logreg_params_new2 = {\n",
        "    'penalty': ['l2', 'l1'],\n",
        "    'C': [1e-12, 1e-10, 1e-8, 1e-6, 1e-4, 1e-2],\n",
        "    'solver': ['liblinear', 'saga']\n",
        "}\n",
        "\n",
        "logreg_new2 = GridSearchCV(LogisticRegression(max_iter=1000, tol=1e-3), param_grid=logreg_params_new2, cv=5, n_jobs=-1, scoring='f1_macro')\n",
        "logreg_new2.fit(X_class_weight, y_class_weight)\n",
        "logreg_new2_best = logreg_new2.best_estimator_\n",
        "\n",
        "print(\"Best Params for Logistic Regression:\", logreg_new2.best_params_)\n",
        "\n",
        "logreg_pred_new2 = logreg_new2_best.predict(X_test)\n",
        "macro_f1_logreg_new2 = f1_score(y_test, logreg_pred_new2, average='macro')\n",
        "print(\"Macro-average F1-score for Logistic regression:\", macro_f1_logreg_new2)\n",
        "print(classification_report(y_test, logreg_pred_new2))"
      ],
      "metadata": {
        "colab": {
          "base_uri": "https://localhost:8080/"
        },
        "id": "SM-O8O8f6_gi",
        "outputId": "55f68ce2-55c2-4871-fa0a-3db1e3c21e3e"
      },
      "execution_count": 84,
      "outputs": [
        {
          "metadata": {
            "tags": null
          },
          "name": "stdout",
          "output_type": "stream",
          "text": [
            "Best Params for Logistic Regression: {'C': 0.0001, 'penalty': 'l1', 'solver': 'liblinear'}\n",
            "Macro-average F1-score for Logistic regression: 0.9373354397051079\n",
            "              precision    recall  f1-score   support\n",
            "\n",
            "           0       0.99      0.98      0.99       106\n",
            "           1       0.86      0.92      0.89        13\n",
            "\n",
            "    accuracy                           0.97       119\n",
            "   macro avg       0.92      0.95      0.94       119\n",
            "weighted avg       0.98      0.97      0.98       119\n",
            "\n"
          ]
        }
      ]
    },
    {
      "cell_type": "code",
      "source": [
        "dt_params_new2 = {\n",
        "    'max_depth': [5, 10, 15, 20],\n",
        "    'min_samples_leaf': [1, 3, 5],\n",
        "    'min_samples_split': [2, 3, 4, 5, 6]\n",
        "}\n",
        "\n",
        "dt_new2 = GridSearchCV(DecisionTreeClassifier(), param_grid=dt_params_new2, cv=5, n_jobs=-1, scoring='f1_macro')\n",
        "dt_new2.fit(X_class_weight, y_class_weight)\n",
        "dt_new2_best = dt_new2.best_estimator_\n",
        "\n",
        "print(\"Best Params for Decision Tree:\", dt_new2.best_params_)\n",
        "\n",
        "dt_pred_new2 = dt_new2_best.predict(X_test)\n",
        "macro_f1_dt_new2 = f1_score(y_test, dt_pred_new2, average='macro')\n",
        "print(\"Macro-average F1-score for decision tree :\", macro_f1_dt_new2)\n",
        "print(classification_report(y_test, dt_pred_new2))"
      ],
      "metadata": {
        "colab": {
          "base_uri": "https://localhost:8080/"
        },
        "id": "cCy68tTN7g3c",
        "outputId": "59755fd5-0e1d-425a-911d-9ca9ba0314f8"
      },
      "execution_count": 86,
      "outputs": [
        {
          "output_type": "stream",
          "name": "stdout",
          "text": [
            "Best Params for Decision Tree: {'max_depth': 20, 'min_samples_leaf': 1, 'min_samples_split': 6}\n",
            "Macro-average F1-score for decision tree : 0.8315470171890799\n",
            "              precision    recall  f1-score   support\n",
            "\n",
            "           0       0.95      0.98      0.97       106\n",
            "           1       0.80      0.62      0.70        13\n",
            "\n",
            "    accuracy                           0.94       119\n",
            "   macro avg       0.88      0.80      0.83       119\n",
            "weighted avg       0.94      0.94      0.94       119\n",
            "\n"
          ]
        }
      ]
    },
    {
      "cell_type": "markdown",
      "source": [
        "Task 2c - sample weights"
      ],
      "metadata": {
        "id": "ZbBET8qE7YsZ"
      }
    },
    {
      "cell_type": "code",
      "source": [
        "svc_param_new3 = {\n",
        "    'kernel': ['linear', 'rbf', 'sigmoid'],\n",
        "    'C': [1e-12, 1e-10, 1e-8, 1e-6, 1e-4, 1e-2],\n",
        "    'gamma': ['scale', 'auto']\n",
        "}\n",
        "\n",
        "svc_new3 = GridSearchCV(SVC(tol=0.03), param_grid=svc_param_new3, cv=5, n_jobs=-1, scoring='f1_macro')\n",
        "svc_new3.fit(X_train, y_train, sample_weight=wt)\n",
        "svc_new3_best = svc_new3.best_estimator_\n",
        "\n",
        "print(\"Best Params for SVC:\", svc_new3.best_params_)\n",
        "\n",
        "svc_pred_new3 = svc_new3_best.predict(X_test)\n",
        "macro_f1_svc_new3 = f1_score(y_test, svc_pred_new3, average='macro')\n",
        "print(\"Macro-average F1-score for SVC:\", macro_f1_svc_new3)\n",
        "print(classification_report(y_test, svc_pred_new3))"
      ],
      "metadata": {
        "id": "uaY5uX4cVOGp",
        "colab": {
          "base_uri": "https://localhost:8080/"
        },
        "outputId": "d3839c68-e8a6-42c1-f12a-dc7ddf7b4fc9"
      },
      "execution_count": 91,
      "outputs": [
        {
          "output_type": "stream",
          "name": "stdout",
          "text": [
            "Best Params for SVC: {'C': 1e-10, 'gamma': 'scale', 'kernel': 'linear'}\n",
            "Macro-average F1-score for SVC: 0.9373354397051079\n",
            "              precision    recall  f1-score   support\n",
            "\n",
            "           0       0.99      0.98      0.99       106\n",
            "           1       0.86      0.92      0.89        13\n",
            "\n",
            "    accuracy                           0.97       119\n",
            "   macro avg       0.92      0.95      0.94       119\n",
            "weighted avg       0.98      0.97      0.98       119\n",
            "\n"
          ]
        }
      ]
    },
    {
      "cell_type": "code",
      "source": [
        "logreg_params_new3 = {\n",
        "    'penalty': ['l2', 'l1'],\n",
        "    'C': [1e-3, 1e-2, 1e-1, 1, 10],\n",
        "    'solver': ['liblinear', 'saga']\n",
        "}\n",
        "\n",
        "logreg_new3 = GridSearchCV(LogisticRegression(max_iter=1000, tol=1e-3), param_grid=logreg_params_new3, cv=5, n_jobs=-1, scoring='f1_macro')\n",
        "logreg_new3.fit(X_train, y_train, sample_weight=wt)\n",
        "logreg_new3_best = logreg_new3.best_estimator_\n",
        "\n",
        "print(\"Best Params for Logistic Regression:\", logreg_new3.best_params_)\n",
        "\n",
        "logreg_pred_new3 = logreg_new3_best.predict(X_test)\n",
        "macro_f1_logreg_new3 = f1_score(y_test, logreg_pred_new3, average='macro')\n",
        "print(\"Macro-average F1-score for Logistic regression:\", macro_f1_logreg_new3)\n",
        "print(classification_report(y_test, logreg_pred_new3))"
      ],
      "metadata": {
        "colab": {
          "base_uri": "https://localhost:8080/"
        },
        "id": "AFQqMaOb_6B6",
        "outputId": "983690d4-aac6-48aa-b65a-8714f067b503"
      },
      "execution_count": 95,
      "outputs": [
        {
          "output_type": "stream",
          "name": "stdout",
          "text": [
            "Best Params for Logistic Regression: {'C': 0.1, 'penalty': 'l1', 'solver': 'liblinear'}\n",
            "Macro-average F1-score for Logistic regression: 0.8882629107981221\n",
            "              precision    recall  f1-score   support\n",
            "\n",
            "           0       0.97      0.98      0.98       106\n",
            "           1       0.83      0.77      0.80        13\n",
            "\n",
            "    accuracy                           0.96       119\n",
            "   macro avg       0.90      0.88      0.89       119\n",
            "weighted avg       0.96      0.96      0.96       119\n",
            "\n"
          ]
        }
      ]
    },
    {
      "cell_type": "code",
      "source": [
        "dt_params_new3 = {\n",
        "    'max_depth': [2, 3, 4, 5, 10],\n",
        "    'min_samples_leaf': [1, 3, 5],\n",
        "    'min_samples_split': [2, 4, 6, 8, 10]\n",
        "}\n",
        "\n",
        "dt_new3 = GridSearchCV(DecisionTreeClassifier(), param_grid=dt_params_new3, cv=5, n_jobs=-1, scoring='f1_macro')\n",
        "dt_new3.fit(X_train, y_train, sample_weight=wt)\n",
        "dt_new3_best = dt_new3.best_estimator_\n",
        "\n",
        "print(\"Best Params for Decision Tree:\", dt_new3.best_params_)\n",
        "\n",
        "dt_pred_new3 = dt_new3_best.predict(X_test)\n",
        "macro_f1_dt_new3 = f1_score(y_test, dt_pred_new3, average='macro')\n",
        "print(\"Macro-average F1-score for decision tree :\", macro_f1_dt_new3)\n",
        "print(classification_report(y_test, dt_pred_new3))"
      ],
      "metadata": {
        "colab": {
          "base_uri": "https://localhost:8080/"
        },
        "id": "FUmIKxxI_-d9",
        "outputId": "f9667311-adbe-4a18-afc2-3aecabaf8817"
      },
      "execution_count": 96,
      "outputs": [
        {
          "output_type": "stream",
          "name": "stdout",
          "text": [
            "Best Params for Decision Tree: {'max_depth': 5, 'min_samples_leaf': 3, 'min_samples_split': 2}\n",
            "Macro-average F1-score for decision tree : 0.8537826926452519\n",
            "              precision    recall  f1-score   support\n",
            "\n",
            "           0       0.97      0.96      0.97       106\n",
            "           1       0.71      0.77      0.74        13\n",
            "\n",
            "    accuracy                           0.94       119\n",
            "   macro avg       0.84      0.87      0.85       119\n",
            "weighted avg       0.94      0.94      0.94       119\n",
            "\n"
          ]
        }
      ]
    },
    {
      "cell_type": "markdown",
      "source": [
        "Task 2d - generate synthetic data"
      ],
      "metadata": {
        "id": "XXuZCl8UA3aK"
      }
    },
    {
      "cell_type": "code",
      "source": [
        "sm = SMOTE(random_state=42)\n",
        "X_smote, y_smote = sm.fit_resample(X_train, y_train)"
      ],
      "metadata": {
        "id": "OSwfB_5KAoZe"
      },
      "execution_count": 9,
      "outputs": []
    },
    {
      "cell_type": "code",
      "source": [
        "svc_param_new4 = {\n",
        "    'kernel': ['linear', 'rbf'],\n",
        "    'C': [0.1, 1, 10],\n",
        "    'gamma': ['scale', 'auto']\n",
        "}\n",
        "\n",
        "svc_new4 = GridSearchCV(SVC(tol=0.03), param_grid=svc_param_new4, cv=5, n_jobs=-1, scoring='f1_macro')\n",
        "svc_new4.fit(X_smote,y_smote)\n",
        "svc_new4_best = svc_new4.best_estimator_\n",
        "\n",
        "print(\"Best Params for SVC:\", svc_new4.best_params_)\n",
        "\n",
        "svc_pred_new4 = svc_new4_best.predict(X_test)\n",
        "macro_f1_svc_new4 = f1_score(y_test, svc_pred_new4, average='macro')\n",
        "print(\"Macro-average F1-score for SVC:\", macro_f1_svc_new4)\n",
        "print(classification_report(y_test, svc_pred_new4))"
      ],
      "metadata": {
        "id": "g8MCZ0hzCAMs"
      },
      "execution_count": null,
      "outputs": []
    },
    {
      "cell_type": "code",
      "source": [
        "logreg_params_new4 = {\n",
        "    'penalty': ['l2', 'l1'],\n",
        "    'C': [1e-4, 1e-2, 1],\n",
        "    'solver': ['liblinear', 'saga']\n",
        "}\n",
        "\n",
        "logreg_new4 = GridSearchCV(LogisticRegression(max_iter=1000, tol=1e-3), param_grid=logreg_params_new4, cv=5, n_jobs=-1, scoring='f1_macro')\n",
        "logreg_new4.fit(X_smote, y_smote)\n",
        "logreg_new4_best = logreg_new4.best_estimator_\n",
        "\n",
        "print(\"Best Params for Logistic Regression:\", logreg_new4.best_params_)\n",
        "\n",
        "logreg_pred_new4 = logreg_new4_best.predict(X_test)\n",
        "macro_f1_logreg_new4 = f1_score(y_test, logreg_pred_new4, average='macro')\n",
        "print(\"Macro-average F1-score for Logistic regression:\", macro_f1_logreg_new4)\n",
        "print(classification_report(y_test, logreg_pred_new4))"
      ],
      "metadata": {
        "colab": {
          "base_uri": "https://localhost:8080/"
        },
        "id": "7_EoHYRQCOnf",
        "outputId": "11229495-abc1-4d25-ef61-3a6fc1def072"
      },
      "execution_count": 13,
      "outputs": [
        {
          "output_type": "stream",
          "name": "stdout",
          "text": [
            "Best Params for Logistic Regression: {'C': 0.01, 'penalty': 'l1', 'solver': 'liblinear'}\n",
            "Macro-average F1-score for Logistic regression: 0.8172043010752688\n",
            "              precision    recall  f1-score   support\n",
            "\n",
            "           0       0.95      0.99      0.97       106\n",
            "           1       0.88      0.54      0.67        13\n",
            "\n",
            "    accuracy                           0.94       119\n",
            "   macro avg       0.91      0.76      0.82       119\n",
            "weighted avg       0.94      0.94      0.93       119\n",
            "\n"
          ]
        }
      ]
    },
    {
      "cell_type": "code",
      "source": [
        "dt_params_new4 = {\n",
        "    'max_depth': [5, 10, 15],\n",
        "    'min_samples_leaf': [1, 3, 5],\n",
        "    'min_samples_split': [2, 4, 6]\n",
        "}\n",
        "\n",
        "dt_new4 = GridSearchCV(DecisionTreeClassifier(), param_grid=dt_params_new4, cv=5, n_jobs=-1, scoring='f1_macro')\n",
        "dt_new4.fit(X_smote, y_smote)\n",
        "dt_new4_best = dt_new4.best_estimator_\n",
        "\n",
        "print(\"Best Params for Decision Tree:\", dt_new4.best_params_)\n",
        "\n",
        "dt_pred_new4 = dt_new4_best.predict(X_test)\n",
        "macro_f1_dt_new4 = f1_score(y_test, dt_pred_new4, average='macro')\n",
        "print(\"Macro-average F1-score for decision tree :\", macro_f1_dt_new4)\n",
        "print(classification_report(y_test, dt_pred_new4))"
      ],
      "metadata": {
        "colab": {
          "base_uri": "https://localhost:8080/"
        },
        "id": "EI0e1pAvCa0u",
        "outputId": "4db7956d-ba28-413c-cb93-ea40a85a7076"
      },
      "execution_count": 12,
      "outputs": [
        {
          "output_type": "stream",
          "name": "stdout",
          "text": [
            "Best Params for Decision Tree: {'max_depth': 10, 'min_samples_leaf': 1, 'min_samples_split': 4}\n",
            "Macro-average F1-score for decision tree : 0.860981308411215\n",
            "              precision    recall  f1-score   support\n",
            "\n",
            "           0       0.96      0.98      0.97       106\n",
            "           1       0.82      0.69      0.75        13\n",
            "\n",
            "    accuracy                           0.95       119\n",
            "   macro avg       0.89      0.84      0.86       119\n",
            "weighted avg       0.95      0.95      0.95       119\n",
            "\n"
          ]
        }
      ]
    },
    {
      "cell_type": "markdown",
      "source": [
        "## Final result:\n",
        "\n",
        "The macro - F1 score shows that dealing with the class imbalance problem, the performance of best classification model has increased form 89% to 94% for Support Vector Classifier and Logistic Regression using class weights and sample weights respectively."
      ],
      "metadata": {
        "id": "hjY_XD5fC-Eg"
      }
    },
    {
      "cell_type": "code",
      "source": [],
      "metadata": {
        "id": "locMA7sY1sdM"
      },
      "execution_count": null,
      "outputs": []
    }
  ]
}