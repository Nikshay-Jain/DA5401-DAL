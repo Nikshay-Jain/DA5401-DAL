{
 "cells": [
  {
   "cell_type": "code",
   "execution_count": 49,
   "metadata": {},
   "outputs": [],
   "source": [
    "import os\n",
    "import numpy as np\n",
    "import pandas as pd\n",
    "import matplotlib.pyplot as plt\n",
    "from datasets import load_dataset, DatasetDict\n",
    "from collections import Counter\n",
    "from wordcloud import WordCloud\n",
    "from unidecode import unidecode\n",
    "from sklearn.feature_extraction.text import TfidfVectorizer\n",
    "from sklearn.naive_bayes import MultinomialNB\n",
    "from sklearn.metrics import classification_report, accuracy_score, confusion_matrix\n",
    "from sklearn.feature_extraction.text import CountVectorizer\n",
    "from sklearn.model_selection import GridSearchCV"
   ]
  },
  {
   "cell_type": "code",
   "execution_count": 2,
   "metadata": {},
   "outputs": [
    {
     "name": "stdout",
     "output_type": "stream",
     "text": [
      "DatasetDict({\n",
      "    train: Dataset({\n",
      "        features: ['id', 'locale', 'partition', 'scenario', 'intent', 'utt', 'annot_utt', 'tokens', 'ner_tags', 'worker_id', 'slot_method', 'judgments'],\n",
      "        num_rows: 587214\n",
      "    })\n",
      "    validation: Dataset({\n",
      "        features: ['id', 'locale', 'partition', 'scenario', 'intent', 'utt', 'annot_utt', 'tokens', 'ner_tags', 'worker_id', 'slot_method', 'judgments'],\n",
      "        num_rows: 103683\n",
      "    })\n",
      "    test: Dataset({\n",
      "        features: ['id', 'locale', 'partition', 'scenario', 'intent', 'utt', 'annot_utt', 'tokens', 'ner_tags', 'worker_id', 'slot_method', 'judgments'],\n",
      "        num_rows: 151674\n",
      "    })\n",
      "})\n"
     ]
    }
   ],
   "source": [
    "data = load_dataset(\"qanastek/MASSIVE\", trust_remote_code=True)\n",
    "print(data)"
   ]
  },
  {
   "cell_type": "code",
   "execution_count": 28,
   "metadata": {},
   "outputs": [
    {
     "name": "stdout",
     "output_type": "stream",
     "text": [
      "DatasetDict({\n",
      "    train: Dataset({\n",
      "        features: ['locale', 'partition', 'utt', 'tokens'],\n",
      "        num_rows: 587214\n",
      "    })\n",
      "    validation: Dataset({\n",
      "        features: ['locale', 'partition', 'utt', 'tokens'],\n",
      "        num_rows: 103683\n",
      "    })\n",
      "    test: Dataset({\n",
      "        features: ['locale', 'partition', 'utt', 'tokens'],\n",
      "        num_rows: 151674\n",
      "    })\n",
      "})\n"
     ]
    }
   ],
   "source": [
    "des_col = ['locale', 'partition', 'utt', 'tokens']\n",
    "\n",
    "data1 = DatasetDict({\n",
    "    'train': data['train'].select_columns(des_col),\n",
    "    'validation': data['validation'].select_columns(des_col),\n",
    "    'test': data['test'].select_columns(des_col)\n",
    "})\n",
    "\n",
    "print(data1)"
   ]
  },
  {
   "cell_type": "markdown",
   "metadata": {},
   "source": [
    "## Task 1"
   ]
  },
  {
   "cell_type": "code",
   "execution_count": 48,
   "metadata": {},
   "outputs": [],
   "source": [
    "locales = ['af-ZA', 'da-DK', 'de-DE', 'en-US', 'es-ES', 'fr-FR', 'fi-FI', 'hu-HU', 'is-IS', \n",
    "           'it-IT', 'jv-ID', 'lv-LV', 'ms-MY', 'nb-NO', 'nl-NL', 'pl-PL', 'pt-PT', \n",
    "           'ro-RO', 'ru-RU', 'sl-SL', 'sv-SE', 'sq-AL', 'sw-KE', 'tl-PH', 'tr-TR', \n",
    "           'vi-VN', 'cy-GB']\n",
    "\n",
    "# Directory to store output files\n",
    "output_dir = \"utts_by_locale\"\n",
    "os.makedirs(output_dir, exist_ok=True)\n",
    "\n",
    "# Function to extract and save utterances for each locale for all dataset partitions\n",
    "def extr_utt(dataset_dict, locales, output_dir, deaccent=False):\n",
    "    partitions = ['train', 'validation', 'test']\n",
    "    for partition in partitions:\n",
    "        dataset = dataset_dict[partition]\n",
    "        for locale in locales:\n",
    "            locale_data = dataset.filter(lambda example: example['locale'] == locale)\n",
    "            \n",
    "            file_path = os.path.join(output_dir, f\"{locale}_{partition}.txt\")\n",
    "            with open(file_path, 'w', encoding='utf-8') as file:\n",
    "                for utt in locale_data['utt']:\n",
    "                    if deaccent:\n",
    "                        utt = unidecode(utt)\n",
    "                    file.write(utt + \"\\n\")       # 1 utterance/line\n",
    "            \n",
    "            print(f\"Saved {locale} utterances from {partition} partition to {file_path}\")"
   ]
  },
  {
   "cell_type": "code",
   "execution_count": null,
   "metadata": {},
   "outputs": [],
   "source": [
    "extr_utt(data1, locales, output_dir, deaccent=True)"
   ]
  },
  {
   "cell_type": "markdown",
   "metadata": {},
   "source": [
    "## Task 2"
   ]
  },
  {
   "cell_type": "code",
   "execution_count": 46,
   "metadata": {},
   "outputs": [],
   "source": [
    "train_data = DatasetDict({\n",
    "    'train': data1['train'].select_columns(['locale','utt','tokens']),\n",
    "})\n",
    "\n",
    "val_data = DatasetDict({\n",
    "    'train': data1['validation'].select_columns(['locale','utt','tokens']),\n",
    "})\n",
    "\n",
    "test_data = DatasetDict({\n",
    "    'train': data1['test'].select_columns(['locale','utt','tokens']),\n",
    "})"
   ]
  },
  {
   "cell_type": "code",
   "execution_count": null,
   "metadata": {},
   "outputs": [],
   "source": [
    "# Feature extraction (TF-IDF vectorization)\n",
    "vectorizer = TfidfVectorizer()\n",
    "\n",
    "X_train = vectorizer.fit_transform(train_data['utt'])\n",
    "X_val = vectorizer.transform(val_data['utt'])\n",
    "X_test = vectorizer.transform(test_data['utt'])\n",
    "\n",
    "y_train = train_data['locale']\n",
    "y_val = val_data['locale']\n",
    "y_test = test_data['locale']"
   ]
  },
  {
   "cell_type": "code",
   "execution_count": null,
   "metadata": {},
   "outputs": [],
   "source": [
    "nb_model = MultinomialNB()        # Multinomial Naive Bayes Model\n",
    "\n",
    "# Grid search to tune 'alpha'\n",
    "param_grid = {'alpha': [0.1, 0.5, 1.0, 1.5, 2.0]}\n",
    "grid_search = GridSearchCV(nb_model, param_grid, cv=5, scoring='accuracy')\n",
    "grid_search.fit(X_train, y_train)\n",
    "\n",
    "# Training model\n",
    "nb_model.fit(X_train, y_train)\n",
    "best_nb_model = grid_search.best_estimator_"
   ]
  },
  {
   "cell_type": "code",
   "execution_count": null,
   "metadata": {},
   "outputs": [],
   "source": [
    "# Performance Metrics\n",
    "\n",
    "# Evaluate on training set\n",
    "y_train_pred = best_nb_model.predict(X_train)\n",
    "train_accuracy = accuracy_score(y_train, y_train_pred)\n",
    "print(f\"Test Accuracy: {train_accuracy}\")\n",
    "print(\"Training Performance:\\n\", classification_report(y_train, y_train_pred))\n",
    "print(\"Confusion Matrix:\")\n",
    "print(confusion_matrix(y_train, y_train_pred))\n",
    "\n",
    "# Evaluate on validation set\n",
    "y_val_pred = best_nb_model.predict(X_val)\n",
    "val_accuracy = accuracy_score(y_val, y_val_pred)\n",
    "print(f\"Test Accuracy: {val_accuracy}\")\n",
    "print(\"Validation Performance:\\n\", classification_report(y_val, y_val_pred))\n",
    "print(\"Confusion Matrix:\")\n",
    "print(confusion_matrix(y_val, y_val_pred))\n",
    "\n",
    "# Evaluate on test set\n",
    "y_test_pred = best_nb_model.predict(X_test)\n",
    "test_accuracy = accuracy_score(y_test, y_test_pred)\n",
    "print(f\"Test Accuracy: {test_accuracy}\")\n",
    "print(\"Test Performance:\\n\", classification_report(y_test, y_test_pred))\n",
    "print(\"Confusion Matrix:\")\n",
    "print(confusion_matrix(y_test, y_test_pred))"
   ]
  }
 ],
 "metadata": {
  "kernelspec": {
   "display_name": "Python 3",
   "language": "python",
   "name": "python3"
  },
  "language_info": {
   "codemirror_mode": {
    "name": "ipython",
    "version": 3
   },
   "file_extension": ".py",
   "mimetype": "text/x-python",
   "name": "python",
   "nbconvert_exporter": "python",
   "pygments_lexer": "ipython3",
   "version": "3.8.10"
  }
 },
 "nbformat": 4,
 "nbformat_minor": 2
}
