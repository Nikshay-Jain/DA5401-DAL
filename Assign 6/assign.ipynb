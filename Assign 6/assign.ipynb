{
 "cells": [
  {
   "cell_type": "code",
   "execution_count": 49,
   "metadata": {},
   "outputs": [],
   "source": [
    "import os\n",
    "import numpy as np\n",
    "import pandas as pd\n",
    "from scipy.linalg import inv\n",
    "import matplotlib.pyplot as plt\n",
    "from datasets import load_dataset, DatasetDict\n",
    "from collections import Counter\n",
    "from wordcloud import WordCloud\n",
    "from unidecode import unidecode\n",
    "from sklearn.feature_extraction.text import TfidfVectorizer\n",
    "from sklearn.naive_bayes import MultinomialNB\n",
    "from sklearn.metrics import classification_report, accuracy_score, confusion_matrix\n",
    "from sklearn.feature_extraction.text import CountVectorizer\n",
    "from sklearn.model_selection import GridSearchCV, train_test_split"
   ]
  },
  {
   "cell_type": "code",
   "execution_count": 2,
   "metadata": {},
   "outputs": [
    {
     "name": "stdout",
     "output_type": "stream",
     "text": [
      "DatasetDict({\n",
      "    train: Dataset({\n",
      "        features: ['id', 'locale', 'partition', 'scenario', 'intent', 'utt', 'annot_utt', 'tokens', 'ner_tags', 'worker_id', 'slot_method', 'judgments'],\n",
      "        num_rows: 587214\n",
      "    })\n",
      "    validation: Dataset({\n",
      "        features: ['id', 'locale', 'partition', 'scenario', 'intent', 'utt', 'annot_utt', 'tokens', 'ner_tags', 'worker_id', 'slot_method', 'judgments'],\n",
      "        num_rows: 103683\n",
      "    })\n",
      "    test: Dataset({\n",
      "        features: ['id', 'locale', 'partition', 'scenario', 'intent', 'utt', 'annot_utt', 'tokens', 'ner_tags', 'worker_id', 'slot_method', 'judgments'],\n",
      "        num_rows: 151674\n",
      "    })\n",
      "})\n"
     ]
    }
   ],
   "source": [
    "data = load_dataset(\"qanastek/MASSIVE\", trust_remote_code=True)\n",
    "print(data)"
   ]
  },
  {
   "cell_type": "code",
   "execution_count": 28,
   "metadata": {},
   "outputs": [
    {
     "name": "stdout",
     "output_type": "stream",
     "text": [
      "DatasetDict({\n",
      "    train: Dataset({\n",
      "        features: ['locale', 'partition', 'utt', 'tokens'],\n",
      "        num_rows: 587214\n",
      "    })\n",
      "    validation: Dataset({\n",
      "        features: ['locale', 'partition', 'utt', 'tokens'],\n",
      "        num_rows: 103683\n",
      "    })\n",
      "    test: Dataset({\n",
      "        features: ['locale', 'partition', 'utt', 'tokens'],\n",
      "        num_rows: 151674\n",
      "    })\n",
      "})\n"
     ]
    }
   ],
   "source": [
    "des_col = ['locale', 'partition', 'utt', 'tokens']\n",
    "\n",
    "data1 = DatasetDict({\n",
    "    'train': data['train'].select_columns(des_col),\n",
    "    'validation': data['validation'].select_columns(des_col),\n",
    "    'test': data['test'].select_columns(des_col)\n",
    "})\n",
    "\n",
    "print(data1)"
   ]
  },
  {
   "cell_type": "markdown",
   "metadata": {},
   "source": [
    "## Task 1"
   ]
  },
  {
   "cell_type": "code",
   "execution_count": 51,
   "metadata": {},
   "outputs": [],
   "source": [
    "locales = ['af-ZA', 'da-DK', 'de-DE', 'en-US', 'es-ES', 'fr-FR', 'fi-FI', 'hu-HU', 'is-IS', \n",
    "           'it-IT', 'jv-ID', 'lv-LV', 'ms-MY', 'nb-NO', 'nl-NL', 'pl-PL', 'pt-PT', \n",
    "           'ro-RO', 'ru-RU', 'sl-SL', 'sv-SE', 'sq-AL', 'sw-KE', 'tl-PH', 'tr-TR', \n",
    "           'vi-VN', 'cy-GB']\n",
    "\n",
    "# Directory to store output files\n",
    "output_dir = \"utts_by_locale\"\n",
    "os.makedirs(output_dir, exist_ok=True)\n",
    "\n",
    "# Function to extract and save utterances for each locale for all dataset partitions\n",
    "def extr_utt(dataset_dict, locales, output_dir, deaccent):\n",
    "    partitions = ['train', 'validation', 'test']\n",
    "    for partition in partitions:\n",
    "        dataset = dataset_dict[partition]\n",
    "        for locale in locales:\n",
    "            locale_data = dataset.filter(lambda example: example['locale'] == locale)\n",
    "            \n",
    "            file_path = os.path.join(output_dir, f\"{locale}_{partition}.txt\")\n",
    "            with open(file_path, 'w', encoding='utf-8') as file:\n",
    "                for utt in locale_data['utt']:\n",
    "                    if deaccent:\n",
    "                        utt = unidecode(utt)\n",
    "                    file.write(utt + \"\\n\")       # 1 utterance/line\n",
    "            \n",
    "            print(f\"Saved {locale} utterances from {partition} partition to {file_path}\")"
   ]
  },
  {
   "cell_type": "code",
   "execution_count": null,
   "metadata": {},
   "outputs": [],
   "source": [
    "extr_utt(data1, locales, output_dir, True)"
   ]
  },
  {
   "cell_type": "markdown",
   "metadata": {},
   "source": [
    "## Task 2"
   ]
  },
  {
   "cell_type": "code",
   "execution_count": 46,
   "metadata": {},
   "outputs": [],
   "source": [
    "train_data = DatasetDict({\n",
    "    'train': data1['train'].select_columns(['locale','utt','tokens']),\n",
    "})\n",
    "\n",
    "val_data = DatasetDict({\n",
    "    'train': data1['validation'].select_columns(['locale','utt','tokens']),\n",
    "})\n",
    "\n",
    "test_data = DatasetDict({\n",
    "    'train': data1['test'].select_columns(['locale','utt','tokens']),\n",
    "})"
   ]
  },
  {
   "cell_type": "code",
   "execution_count": null,
   "metadata": {},
   "outputs": [],
   "source": [
    "# Feature extraction (TF-IDF vectorization)\n",
    "vectorizer = TfidfVectorizer()\n",
    "\n",
    "X_train = vectorizer.fit_transform(train_data['utt'])\n",
    "X_val = vectorizer.transform(val_data['utt'])\n",
    "X_test = vectorizer.transform(test_data['utt'])\n",
    "\n",
    "y_train = train_data['locale']\n",
    "y_val = val_data['locale']\n",
    "y_test = test_data['locale']"
   ]
  },
  {
   "cell_type": "code",
   "execution_count": null,
   "metadata": {},
   "outputs": [],
   "source": [
    "nb_model = MultinomialNB()        # Multinomial Naive Bayes Model\n",
    "\n",
    "# Grid search to tune 'alpha'\n",
    "param_grid = {'alpha': [0.1, 0.5, 1.0, 1.5, 2.0]}\n",
    "grid_search = GridSearchCV(nb_model, param_grid, cv=5, scoring='accuracy')\n",
    "grid_search.fit(X_train, y_train)\n",
    "\n",
    "# Training model\n",
    "nb_model.fit(X_train, y_train)\n",
    "best_nb_model = grid_search.best_estimator_"
   ]
  },
  {
   "cell_type": "code",
   "execution_count": null,
   "metadata": {},
   "outputs": [],
   "source": [
    "# Performance Metrics\n",
    "\n",
    "# Evaluate on training set\n",
    "y_train_pred = best_nb_model.predict(X_train)\n",
    "train_accuracy = accuracy_score(y_train, y_train_pred)\n",
    "print(f\"Test Accuracy: {train_accuracy}\")\n",
    "print(\"Training Performance:\\n\", classification_report(y_train, y_train_pred))\n",
    "print(\"Confusion Matrix:\")\n",
    "print(confusion_matrix(y_train, y_train_pred))\n",
    "\n",
    "# Evaluate on validation set\n",
    "y_val_pred = best_nb_model.predict(X_val)\n",
    "val_accuracy = accuracy_score(y_val, y_val_pred)\n",
    "print(f\"Test Accuracy: {val_accuracy}\")\n",
    "print(\"Validation Performance:\\n\", classification_report(y_val, y_val_pred))\n",
    "print(\"Confusion Matrix:\")\n",
    "print(confusion_matrix(y_val, y_val_pred))\n",
    "\n",
    "# Evaluate on test set\n",
    "y_test_pred = best_nb_model.predict(X_test)\n",
    "test_accuracy = accuracy_score(y_test, y_test_pred)\n",
    "print(f\"Test Accuracy: {test_accuracy}\")\n",
    "print(\"Test Performance:\\n\", classification_report(y_test, y_test_pred))\n",
    "print(\"Confusion Matrix:\")\n",
    "print(confusion_matrix(y_test, y_test_pred))"
   ]
  },
  {
   "cell_type": "markdown",
   "metadata": {},
   "source": [
    "## Task 3"
   ]
  },
  {
   "cell_type": "code",
   "execution_count": null,
   "metadata": {},
   "outputs": [],
   "source": [
    "# Define the mapping of languages to continents\n",
    "continent_mapping = {\n",
    "    'af-ZA': 'Africa',\n",
    "    'da-DK': 'Europe',\n",
    "    'de-DE': 'Europe',\n",
    "    'en-US': 'North America',\n",
    "    'es-ES': 'Europe',\n",
    "    'fr-FR': 'Europe',\n",
    "    'fi-FI': 'Europe',\n",
    "    'hu-HU': 'Europe',\n",
    "    'is-IS': 'Europe',\n",
    "    'it-IT': 'Europe',\n",
    "    'jv-ID': 'Asia',\n",
    "    'lv-LV': 'Europe',\n",
    "    'ms-MY': 'Asia',\n",
    "    'nb-NO': 'Europe',\n",
    "    'nl-NL': 'Europe',\n",
    "    'pl-PL': 'Europe',\n",
    "    'pt-PT': 'Europe',\n",
    "    'ro-RO': 'Europe',\n",
    "    'ru-RU': 'Europe',\n",
    "    'sl-SL': 'Europe',\n",
    "    'sv-SE': 'Europe',\n",
    "    'sq-AL': 'Europe',\n",
    "    'sw-KE': 'Africa',\n",
    "    'tl-PH': 'Asia',\n",
    "    'tr-TR': 'Asia',\n",
    "    'vi-VN': 'Asia',\n",
    "    'cy-GB': 'Europe'\n",
    "}\n",
    "\n",
    "# Create a dictionary to hold content for each continent\n",
    "continent_files = {continent: [] for continent in set(continent_mapping.values())}\n",
    "\n",
    "# Path where the language files are stored (adjust as necessary)\n",
    "language_files_path = './languages'  # Example path\n",
    "\n",
    "# Read each language file and append its content to the corresponding continent list\n",
    "for lang_code, continent in continent_mapping.items():\n",
    "    file_path = os.path.join(language_files_path, f\"{lang_code}.txt\")\n",
    "    \n",
    "    # Check if the file exists before reading\n",
    "    if os.path.exists(file_path):\n",
    "        with open(file_path, 'r', encoding='utf-8') as file:\n",
    "            content = file.readlines()  # Read lines from the file\n",
    "            continent_files[continent].extend(content)  # Append lines to the continent list\n",
    "    else:\n",
    "        print(f\"File {file_path} does not exist.\")\n",
    "\n",
    "# Save the combined content for each continent into new files\n",
    "for continent, lines in continent_files.items():\n",
    "    output_file_path = os.path.join(language_files_path, f\"{continent}_dataset.txt\")\n",
    "    with open(output_file_path, 'w', encoding='utf-8') as output_file:\n",
    "        output_file.writelines(lines)  # Write all lines to the continent file\n",
    "\n",
    "print(\"Datasets have been collapsed into continent groups.\")"
   ]
  },
  {
   "cell_type": "code",
   "execution_count": null,
   "metadata": {},
   "outputs": [],
   "source": [
    "df = pd.DataFrame(data)\n",
    "\n",
    "# Feature extraction using CountVectorizer\n",
    "vectorizer = CountVectorizer()\n",
    "X = vectorizer.fit_transform(df['text']).toarray()\n",
    "y = df['label'].values\n",
    "\n",
    "# Train/Test Split\n",
    "X_train, X_test, y_train, y_test = train_test_split(X, y, test_size=0.3, random_state=42)\n",
    "\n",
    "def fit_rda(X, y, alpha=0.5):\n",
    "    classes = np.unique(y)\n",
    "    means = {}\n",
    "    covariances = {}\n",
    "    priors = {}\n",
    "\n",
    "    # Calculate means, covariances, and priors for each class\n",
    "    for cls in classes:\n",
    "        X_cls = X[y == cls]\n",
    "        means[cls] = np.mean(X_cls, axis=0)\n",
    "        covariances[cls] = np.cov(X_cls, rowvar=False)\n",
    "        priors[cls] = X_cls.shape[0] / X.shape[0]\n",
    "\n",
    "    # Calculate the overall covariance\n",
    "    overall_cov = np.mean(list(covariances.values()), axis=0)\n",
    "\n",
    "    return means, covariances, priors, overall_cov\n",
    "\n",
    "def predict_rda(X, means, covariances, priors, overall_cov, alpha=0.5):\n",
    "    classes = list(means.keys())\n",
    "    probs = np.zeros((X.shape[0], len(classes)))\n",
    "\n",
    "    for i, cls in enumerate(classes):\n",
    "        mu = means[cls]\n",
    "        cov = (1 - alpha) * covariances[cls] + alpha * overall_cov\n",
    "        inv_cov = inv(cov)\n",
    "\n",
    "        # Calculate the quadratic form for the prediction\n",
    "        probs[:, i] = np.log(priors[cls]) - 0.5 * np.log(np.linalg.det(cov)) \\\n",
    "                      - 0.5 * np.sum((X - mu) @ inv_cov * (X - mu), axis=1)\n",
    "\n",
    "    return classes[np.argmax(probs, axis=1)]\n",
    "\n",
    "# Fit the RDA model\n",
    "means, covariances, priors, overall_cov = fit_rda(X_train, y_train, alpha=0.5)\n",
    "\n",
    "# Make predictions\n",
    "y_pred = predict_rda(X_test, means, covariances, priors, overall_cov, alpha=0.5)\n",
    "\n",
    "# Evaluation\n",
    "print(\"Accuracy:\", accuracy_score(y_test, y_pred))\n",
    "print(\"Classification Report:\\n\", classification_report(y_test, y_pred))"
   ]
  }
 ],
 "metadata": {
  "kernelspec": {
   "display_name": "Python 3",
   "language": "python",
   "name": "python3"
  },
  "language_info": {
   "codemirror_mode": {
    "name": "ipython",
    "version": 3
   },
   "file_extension": ".py",
   "mimetype": "text/x-python",
   "name": "python",
   "nbconvert_exporter": "python",
   "pygments_lexer": "ipython3",
   "version": "3.8.10"
  }
 },
 "nbformat": 4,
 "nbformat_minor": 2
}
