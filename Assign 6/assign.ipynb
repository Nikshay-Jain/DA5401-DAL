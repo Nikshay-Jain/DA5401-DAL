{
 "cells": [
  {
   "cell_type": "code",
   "execution_count": 30,
   "metadata": {},
   "outputs": [],
   "source": [
    "import os\n",
    "import numpy as np\n",
    "import pandas as pd\n",
    "import matplotlib.pyplot as plt\n",
    "from datasets import load_dataset, DatasetDict\n",
    "from collections import Counter\n",
    "from wordcloud import WordCloud\n",
    "from unidecode import unidecode"
   ]
  },
  {
   "cell_type": "code",
   "execution_count": 2,
   "metadata": {},
   "outputs": [
    {
     "name": "stdout",
     "output_type": "stream",
     "text": [
      "DatasetDict({\n",
      "    train: Dataset({\n",
      "        features: ['id', 'locale', 'partition', 'scenario', 'intent', 'utt', 'annot_utt', 'tokens', 'ner_tags', 'worker_id', 'slot_method', 'judgments'],\n",
      "        num_rows: 587214\n",
      "    })\n",
      "    validation: Dataset({\n",
      "        features: ['id', 'locale', 'partition', 'scenario', 'intent', 'utt', 'annot_utt', 'tokens', 'ner_tags', 'worker_id', 'slot_method', 'judgments'],\n",
      "        num_rows: 103683\n",
      "    })\n",
      "    test: Dataset({\n",
      "        features: ['id', 'locale', 'partition', 'scenario', 'intent', 'utt', 'annot_utt', 'tokens', 'ner_tags', 'worker_id', 'slot_method', 'judgments'],\n",
      "        num_rows: 151674\n",
      "    })\n",
      "})\n"
     ]
    }
   ],
   "source": [
    "data = load_dataset(\"qanastek/MASSIVE\", trust_remote_code=True)\n",
    "print(data)"
   ]
  },
  {
   "cell_type": "code",
   "execution_count": 28,
   "metadata": {},
   "outputs": [
    {
     "name": "stdout",
     "output_type": "stream",
     "text": [
      "DatasetDict({\n",
      "    train: Dataset({\n",
      "        features: ['locale', 'partition', 'utt', 'tokens'],\n",
      "        num_rows: 587214\n",
      "    })\n",
      "    validation: Dataset({\n",
      "        features: ['locale', 'partition', 'utt', 'tokens'],\n",
      "        num_rows: 103683\n",
      "    })\n",
      "    test: Dataset({\n",
      "        features: ['locale', 'partition', 'utt', 'tokens'],\n",
      "        num_rows: 151674\n",
      "    })\n",
      "})\n"
     ]
    }
   ],
   "source": [
    "des_col = ['locale', 'partition', 'utt', 'tokens']\n",
    "\n",
    "data1 = DatasetDict({\n",
    "    'train': data['train'].select_columns(des_col),\n",
    "    'validation': data['validation'].select_columns(des_col),\n",
    "    'test': data['test'].select_columns(des_col)\n",
    "})\n",
    "\n",
    "print(data1)"
   ]
  },
  {
   "cell_type": "code",
   "execution_count": null,
   "metadata": {},
   "outputs": [],
   "source": [
    "train_data = data1['train']\n",
    "val_data = data1['validation']\n",
    "test_data = data1['test']"
   ]
  },
  {
   "cell_type": "code",
   "execution_count": 32,
   "metadata": {},
   "outputs": [],
   "source": [
    "locales = ['af-ZA', 'da-DK', 'de-DE', 'en-US', 'es-ES', 'fr-FR', 'fi-FI', 'hu-HU', 'is-IS', \n",
    "           'it-IT', 'jv-ID', 'lv-LV', 'ms-MY', 'nb-NO', 'nl-NL', 'pl-PL', 'pt-PT', \n",
    "           'ro-RO', 'ru-RU', 'sl-SL', 'sv-SE', 'sq-AL', 'sw-KE', 'tl-PH', 'tr-TR', \n",
    "           'vi-VN', 'cy-GB']\n",
    "\n",
    "# Directory to store output files\n",
    "output_dir = \"utts_by_locale\"\n",
    "os.makedirs(output_dir, exist_ok=True)\n",
    "\n",
    "def extr_utt(dataset, locales, output_dir):\n",
    "    for locale in locales:\n",
    "        locale_data = dataset.filter(lambda example: example['locale'] == locale)\n",
    "        \n",
    "        file_path = os.path.join(output_dir, f\"{locale}.txt\")\n",
    "        with open(file_path, 'w', encoding='utf-8') as file:\n",
    "            for utt in locale_data['utt']:\n",
    "                file.write(utt + \"\\n\")                            # 1 utterance per line\n",
    "\n",
    "        print(f\"Saved {locale} utterances to {file_path}\")"
   ]
  },
  {
   "cell_type": "code",
   "execution_count": 33,
   "metadata": {},
   "outputs": [
    {
     "name": "stderr",
     "output_type": "stream",
     "text": [
      "Filter: 100%|██████████| 587214/587214 [00:12<00:00, 48297.02 examples/s]\n"
     ]
    },
    {
     "name": "stdout",
     "output_type": "stream",
     "text": [
      "Saved af-ZA utterances to utts_by_locale\\af-ZA.txt\n"
     ]
    },
    {
     "name": "stderr",
     "output_type": "stream",
     "text": [
      "Filter: 100%|██████████| 587214/587214 [00:15<00:00, 37591.11 examples/s]\n"
     ]
    },
    {
     "name": "stdout",
     "output_type": "stream",
     "text": [
      "Saved da-DK utterances to utts_by_locale\\da-DK.txt\n"
     ]
    },
    {
     "name": "stderr",
     "output_type": "stream",
     "text": [
      "Filter: 100%|██████████| 587214/587214 [00:16<00:00, 35147.14 examples/s]\n"
     ]
    },
    {
     "name": "stdout",
     "output_type": "stream",
     "text": [
      "Saved de-DE utterances to utts_by_locale\\de-DE.txt\n"
     ]
    },
    {
     "name": "stderr",
     "output_type": "stream",
     "text": [
      "Filter: 100%|██████████| 587214/587214 [00:13<00:00, 44023.95 examples/s]\n"
     ]
    },
    {
     "name": "stdout",
     "output_type": "stream",
     "text": [
      "Saved en-US utterances to utts_by_locale\\en-US.txt\n"
     ]
    },
    {
     "name": "stderr",
     "output_type": "stream",
     "text": [
      "Filter: 100%|██████████| 587214/587214 [00:14<00:00, 39370.78 examples/s]\n"
     ]
    },
    {
     "name": "stdout",
     "output_type": "stream",
     "text": [
      "Saved es-ES utterances to utts_by_locale\\es-ES.txt\n"
     ]
    },
    {
     "name": "stderr",
     "output_type": "stream",
     "text": [
      "Filter: 100%|██████████| 587214/587214 [00:16<00:00, 34764.30 examples/s]\n"
     ]
    },
    {
     "name": "stdout",
     "output_type": "stream",
     "text": [
      "Saved fr-FR utterances to utts_by_locale\\fr-FR.txt\n"
     ]
    },
    {
     "name": "stderr",
     "output_type": "stream",
     "text": [
      "Filter: 100%|██████████| 587214/587214 [00:15<00:00, 37846.32 examples/s]\n"
     ]
    },
    {
     "name": "stdout",
     "output_type": "stream",
     "text": [
      "Saved fi-FI utterances to utts_by_locale\\fi-FI.txt\n"
     ]
    },
    {
     "name": "stderr",
     "output_type": "stream",
     "text": [
      "Filter: 100%|██████████| 587214/587214 [00:17<00:00, 33950.14 examples/s]\n"
     ]
    },
    {
     "name": "stdout",
     "output_type": "stream",
     "text": [
      "Saved hu-HU utterances to utts_by_locale\\hu-HU.txt\n"
     ]
    },
    {
     "name": "stderr",
     "output_type": "stream",
     "text": [
      "Filter: 100%|██████████| 587214/587214 [00:25<00:00, 23302.95 examples/s]\n"
     ]
    },
    {
     "name": "stdout",
     "output_type": "stream",
     "text": [
      "Saved is-IS utterances to utts_by_locale\\is-IS.txt\n"
     ]
    },
    {
     "name": "stderr",
     "output_type": "stream",
     "text": [
      "Filter: 100%|██████████| 587214/587214 [00:24<00:00, 23996.33 examples/s]\n"
     ]
    },
    {
     "name": "stdout",
     "output_type": "stream",
     "text": [
      "Saved it-IT utterances to utts_by_locale\\it-IT.txt\n"
     ]
    },
    {
     "name": "stderr",
     "output_type": "stream",
     "text": [
      "Filter: 100%|██████████| 587214/587214 [00:14<00:00, 39283.68 examples/s]\n"
     ]
    },
    {
     "name": "stdout",
     "output_type": "stream",
     "text": [
      "Saved jv-ID utterances to utts_by_locale\\jv-ID.txt\n"
     ]
    },
    {
     "name": "stderr",
     "output_type": "stream",
     "text": [
      "Filter: 100%|██████████| 587214/587214 [00:27<00:00, 21700.43 examples/s]\n"
     ]
    },
    {
     "name": "stdout",
     "output_type": "stream",
     "text": [
      "Saved lv-LV utterances to utts_by_locale\\lv-LV.txt\n"
     ]
    },
    {
     "name": "stderr",
     "output_type": "stream",
     "text": [
      "Filter: 100%|██████████| 587214/587214 [00:20<00:00, 29032.81 examples/s]\n"
     ]
    },
    {
     "name": "stdout",
     "output_type": "stream",
     "text": [
      "Saved ms-MY utterances to utts_by_locale\\ms-MY.txt\n"
     ]
    },
    {
     "name": "stderr",
     "output_type": "stream",
     "text": [
      "Filter: 100%|██████████| 587214/587214 [00:08<00:00, 66562.84 examples/s]\n"
     ]
    },
    {
     "name": "stdout",
     "output_type": "stream",
     "text": [
      "Saved nb-NO utterances to utts_by_locale\\nb-NO.txt\n"
     ]
    },
    {
     "name": "stderr",
     "output_type": "stream",
     "text": [
      "Filter: 100%|██████████| 587214/587214 [00:08<00:00, 65499.93 examples/s]\n"
     ]
    },
    {
     "name": "stdout",
     "output_type": "stream",
     "text": [
      "Saved nl-NL utterances to utts_by_locale\\nl-NL.txt\n"
     ]
    },
    {
     "name": "stderr",
     "output_type": "stream",
     "text": [
      "Filter: 100%|██████████| 587214/587214 [00:16<00:00, 36565.38 examples/s]\n"
     ]
    },
    {
     "name": "stdout",
     "output_type": "stream",
     "text": [
      "Saved pl-PL utterances to utts_by_locale\\pl-PL.txt\n"
     ]
    },
    {
     "name": "stderr",
     "output_type": "stream",
     "text": [
      "Filter: 100%|██████████| 587214/587214 [00:16<00:00, 35288.39 examples/s]\n"
     ]
    },
    {
     "name": "stdout",
     "output_type": "stream",
     "text": [
      "Saved pt-PT utterances to utts_by_locale\\pt-PT.txt\n"
     ]
    },
    {
     "name": "stderr",
     "output_type": "stream",
     "text": [
      "Filter: 100%|██████████| 587214/587214 [00:19<00:00, 30207.35 examples/s]\n"
     ]
    },
    {
     "name": "stdout",
     "output_type": "stream",
     "text": [
      "Saved ro-RO utterances to utts_by_locale\\ro-RO.txt\n"
     ]
    },
    {
     "name": "stderr",
     "output_type": "stream",
     "text": [
      "Filter: 100%|██████████| 587214/587214 [00:15<00:00, 38157.59 examples/s]\n"
     ]
    },
    {
     "name": "stdout",
     "output_type": "stream",
     "text": [
      "Saved ru-RU utterances to utts_by_locale\\ru-RU.txt\n"
     ]
    },
    {
     "name": "stderr",
     "output_type": "stream",
     "text": [
      "Filter: 100%|██████████| 587214/587214 [00:18<00:00, 32170.66 examples/s]\n"
     ]
    },
    {
     "name": "stdout",
     "output_type": "stream",
     "text": [
      "Saved sl-SL utterances to utts_by_locale\\sl-SL.txt\n"
     ]
    },
    {
     "name": "stderr",
     "output_type": "stream",
     "text": [
      "Filter: 100%|██████████| 587214/587214 [00:17<00:00, 34273.29 examples/s]\n"
     ]
    },
    {
     "name": "stdout",
     "output_type": "stream",
     "text": [
      "Saved sv-SE utterances to utts_by_locale\\sv-SE.txt\n"
     ]
    },
    {
     "name": "stderr",
     "output_type": "stream",
     "text": [
      "Filter: 100%|██████████| 587214/587214 [00:15<00:00, 37995.53 examples/s]\n"
     ]
    },
    {
     "name": "stdout",
     "output_type": "stream",
     "text": [
      "Saved sq-AL utterances to utts_by_locale\\sq-AL.txt\n"
     ]
    },
    {
     "name": "stderr",
     "output_type": "stream",
     "text": [
      "Filter: 100%|██████████| 587214/587214 [00:15<00:00, 37817.85 examples/s]\n"
     ]
    },
    {
     "name": "stdout",
     "output_type": "stream",
     "text": [
      "Saved sw-KE utterances to utts_by_locale\\sw-KE.txt\n"
     ]
    },
    {
     "name": "stderr",
     "output_type": "stream",
     "text": [
      "Filter: 100%|██████████| 587214/587214 [00:12<00:00, 47395.41 examples/s]\n"
     ]
    },
    {
     "name": "stdout",
     "output_type": "stream",
     "text": [
      "Saved tl-PH utterances to utts_by_locale\\tl-PH.txt\n"
     ]
    },
    {
     "name": "stderr",
     "output_type": "stream",
     "text": [
      "Filter: 100%|██████████| 587214/587214 [00:14<00:00, 41423.17 examples/s]\n"
     ]
    },
    {
     "name": "stdout",
     "output_type": "stream",
     "text": [
      "Saved tr-TR utterances to utts_by_locale\\tr-TR.txt\n"
     ]
    },
    {
     "name": "stderr",
     "output_type": "stream",
     "text": [
      "Filter: 100%|██████████| 587214/587214 [00:18<00:00, 32533.02 examples/s]\n"
     ]
    },
    {
     "name": "stdout",
     "output_type": "stream",
     "text": [
      "Saved vi-VN utterances to utts_by_locale\\vi-VN.txt\n"
     ]
    },
    {
     "name": "stderr",
     "output_type": "stream",
     "text": [
      "Filter: 100%|██████████| 587214/587214 [00:17<00:00, 32844.89 examples/s]\n"
     ]
    },
    {
     "name": "stdout",
     "output_type": "stream",
     "text": [
      "Saved cy-GB utterances to utts_by_locale\\cy-GB.txt\n"
     ]
    }
   ],
   "source": [
    "extr_utt(data1['train'], locales, output_dir)"
   ]
  },
  {
   "cell_type": "code",
   "execution_count": null,
   "metadata": {},
   "outputs": [],
   "source": []
  },
  {
   "cell_type": "code",
   "execution_count": null,
   "metadata": {},
   "outputs": [],
   "source": []
  }
 ],
 "metadata": {
  "kernelspec": {
   "display_name": "Python 3",
   "language": "python",
   "name": "python3"
  },
  "language_info": {
   "codemirror_mode": {
    "name": "ipython",
    "version": 3
   },
   "file_extension": ".py",
   "mimetype": "text/x-python",
   "name": "python",
   "nbconvert_exporter": "python",
   "pygments_lexer": "ipython3",
   "version": "3.8.10"
  }
 },
 "nbformat": 4,
 "nbformat_minor": 2
}
